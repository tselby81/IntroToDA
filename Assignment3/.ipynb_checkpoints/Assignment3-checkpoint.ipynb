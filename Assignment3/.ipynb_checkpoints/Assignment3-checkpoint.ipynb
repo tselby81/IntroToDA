{
 "cells": [
  {
   "cell_type": "markdown",
   "id": "f896996e",
   "metadata": {
    "id": "f896996e"
   },
   "source": [
    "### Group members: Niharika Rasthapuram, Tyler Blankenship, Kao Takahama, Tyler Selby, Zach Seitz, Safal Lamichhane \n",
    "\n",
    "### Due Date: 2/19/23\n",
    "\n",
    "Using what we have learned in Numpy Module to analyze SP500.csv file with Numpy array \n",
    "operations.  Please find answers to the following questions:"
   ]
  },
  {
   "cell_type": "markdown",
   "id": "1f2fed17",
   "metadata": {
    "id": "1f2fed17"
   },
   "source": [
    "### 1) the highest daily gain and its date, the highest daily loss and its date"
   ]
  },
  {
   "cell_type": "code",
   "execution_count": 1,
   "id": "aeb0d03c",
   "metadata": {
    "id": "aeb0d03c"
   },
   "outputs": [
    {
     "name": "stdout",
     "output_type": "stream",
     "text": [
      " The maximum transaction volume was on 2008-10-13 and the transaction volume was 11456230000\n"
     ]
    }
   ],
   "source": [
    "#the highest daily transaction volume and its date\n",
    "import numpy as np\n",
    "import pandas as pd\n",
    "\n",
    "dataframe= pd.read_csv(\"SP500.csv\")\n",
    "\n",
    "data= dataframe.values\n",
    "\n",
    "#lets get the array for the volume\n",
    "\n",
    "volume= data[:,6]\n",
    "\n",
    "#lets find out the maximum volume from the data\n",
    "max_index=np.argmax(volume)\n",
    "date = dataframe ['Date'][max_index +1]\n",
    "\n",
    "print(f\" The maximum transaction volume was on {date} and the transaction volume was {volume[max_index]}\")\n"
   ]
  },
  {
   "cell_type": "markdown",
   "id": "cd472bb3",
   "metadata": {
    "id": "cd472bb3"
   },
   "source": [
    "### 2) the most daily transaction volume and its date"
   ]
  },
  {
   "cell_type": "code",
   "execution_count": 2,
   "id": "7996282b",
   "metadata": {
    "id": "7996282b"
   },
   "outputs": [
    {
     "name": "stdout",
     "output_type": "stream",
     "text": [
      "The highest profit was on 2008-10-13 and profit was 104.13000499999998\n",
      "The highest loss was on 2018-02-05 and loss was -113.18994199999997\n"
     ]
    }
   ],
   "source": [
    "# lets get out the closinig amount to get max loss and gain\n",
    "closing_value = data[:,4]\n",
    "\n",
    "# lets create a array of daily closing difference\n",
    "gain = closing_value[1:] - closing_value [:-1]\n",
    "\n",
    "# we have the array of the gain now, we will get the maximum gain index and maximum loss index\n",
    "max_gain = np.argmax(gain)\n",
    "max_loss = np.argmin(gain)\n",
    "\n",
    "# lets get the date for max gain and max loss amount\n",
    "max_date = dataframe['Date'][max_gain +1]\n",
    "min_date = dataframe['Date'][max_loss +1]\n",
    "\n",
    "print(f\"The highest profit was on {max_date} and profit was {gain[max_gain]}\")\n",
    "print(f\"The highest loss was on {min_date} and loss was {gain[max_loss]}\")"
   ]
  },
  {
   "cell_type": "markdown",
   "id": "2eccdef8",
   "metadata": {
    "id": "2eccdef8"
   },
   "source": [
    "### 3) a monthly report for year 2017-2018, which has monthly average open price, close price, transaction volume and gain/loss, and a query to find all of the months which have certain range of open prices "
   ]
  },
  {
   "cell_type": "code",
   "execution_count": 3,
   "id": "c92465a1",
   "metadata": {
    "id": "c92465a1"
   },
   "outputs": [
    {
     "name": "stdout",
     "output_type": "stream",
     "text": [
      "                open        close       volume  gain_loss\n",
      "2017-04  2360.150005  2359.309455  65265670000  -0.000356\n",
      "2017-05  2394.470004  2395.345881  79607170000   0.000366\n",
      "2017-06  2434.683605  2433.985451  81002490000  -0.000287\n",
      "2017-07   2453.03949  2454.102502  63169400000   0.000433\n",
      "2017-08  2456.749968   2456.22307  70616030000  -0.000214\n",
      "2017-09  2491.332495   2492.84104  66337980000   0.000606\n",
      "2017-10  2555.807273   2556.99727  70871570000   0.000466\n",
      "2017-11  2590.306164  2593.605736  73173260000   0.001274\n",
      "2017-12  2666.069995  2664.340527  65251190000  -0.000649\n",
      "2018-01  2785.686651  2789.803816  76860120000   0.001478\n",
      "2018-02  2710.269467  2705.155248  79579410000  -0.001887\n",
      "2018-03  2707.860003  2702.773821  76349800000  -0.001878\n",
      "Months with open price between 2400 and 2700:\n",
      "[Period('2017-06', 'M'), Period('2017-07', 'M'), Period('2017-08', 'M'), Period('2017-09', 'M'), Period('2017-10', 'M'), Period('2017-11', 'M'), Period('2017-12', 'M')]\n"
     ]
    }
   ],
   "source": [
    "data_frame = pd.read_csv(\"SP500.csv\")\n",
    "\n",
    "# Convert the Date column to a Pandas datetime column and setting the Date column as the index of the DataFrame\n",
    "dataframe['Date'] = pd.to_datetime(data_frame['Date'])\n",
    "dataframe.set_index('Date', inplace=True)\n",
    "\n",
    "# Select only the rows for the year 2017-2018\n",
    "#dataframe = dataframe.loc['2017':'2018']\n",
    "\n",
    "# Create a new DataFrame to store the monthly data of financial year 2017-18 i.e., April-17 to March-18\n",
    "monthly_data = pd.DataFrame(index=pd.period_range('2017-04', '2018-03', freq='M'), columns=['open', 'close', 'volume'])\n",
    "\n",
    "# Loop through each month and calculate the average open price, close price, and transaction volume\n",
    "for month in monthly_data.index:\n",
    "    # Select only the rows for the current month\n",
    "    month_start = month.start_time.strftime('%Y-%m-%d')\n",
    "    month_end = month.end_time.strftime('%Y-%m-%d')\n",
    "    month_dataframe = dataframe.loc[month_start:month_end]\n",
    "    \n",
    "    # Calculate the average open price, close price, and transaction volume for the month\n",
    "    monthly_data.loc[month, 'open'] = np.mean(month_dataframe['Open'])\n",
    "    monthly_data.loc[month, 'close'] = np.mean(month_dataframe['Close'])\n",
    "    monthly_data.loc[month, 'volume'] = np.sum(month_dataframe['Volume'])\n",
    "    \n",
    "    # Calculate the gain/loss for the month\n",
    "    monthly_data.loc[month, 'gain_loss'] = (monthly_data.loc[month, 'close'] - monthly_data.loc[month, 'open']) / monthly_data.loc[month, 'open']\n",
    "\n",
    "# Print the monthly report\n",
    "print(monthly_data)\n",
    "\n",
    "# Query the DataFrame to find all of the months which have an open price in a certain range of 2400 to 2700\n",
    "range_start = 2400\n",
    "range_end = 2700\n",
    "matching_months = monthly_data[(monthly_data['open'] >= range_start) & (monthly_data['open'] <= range_end)]\n",
    "print('Months with open price between {} and {}:'.format(range_start, range_end))\n",
    "print(matching_months.index.tolist())"
   ]
  },
  {
   "cell_type": "markdown",
   "id": "cabf0f3b",
   "metadata": {
    "id": "cabf0f3b"
   },
   "source": [
    "### 4) a yearly report which has annual average open price, close price, transaction volume and gain/loss from 1950 to 2018, and the most profitable year"
   ]
  },
  {
   "cell_type": "code",
   "execution_count": null,
   "id": "df9cf279",
   "metadata": {
    "id": "df9cf279"
   },
   "outputs": [],
   "source": []
  },
  {
   "cell_type": "markdown",
   "id": "47189030",
   "metadata": {
    "id": "47189030"
   },
   "source": [
    "### 5) a every other five year report which has every five year average open price, close price, transaction volume and gain/loss from 1950 to 2018, and the most profitable five year, "
   ]
  },
  {
   "cell_type": "code",
   "execution_count": 4,
   "id": "c300773a",
   "metadata": {
    "id": "c300773a"
   },
   "outputs": [
    {
     "name": "stdout",
     "output_type": "stream",
     "text": [
      "             open        close         volume  gain_loss\n",
      "1950    23.948002    23.948002     2181700000   0.000000\n",
      "1955     47.04523     47.04523     3329710000   0.000000\n",
      "1960    67.134913    67.143545     5132620000   0.000129\n",
      "1965    92.144817    92.151681    11759150000   0.000074\n",
      "1970    96.146398    96.124893    18554220000  -0.000224\n",
      "1975    97.070111    97.102209    30696980000   0.000331\n",
      "1980   137.429652   137.478087    84324810000   0.000352\n",
      "1985   259.686461   259.837395   193531620000   0.000581\n",
      "1990   407.601012   407.684031   276756510000   0.000204\n",
      "1995   898.511394   899.311165   697845170000   0.000890\n",
      "2000  1142.276792  1142.076967  1633887690000  -0.000175\n",
      "2005  1232.307609    1232.3266  4572779030000   0.000015\n",
      "2010  1471.892304  1472.574681  4786747760000   0.000464\n",
      "2015  2250.783993   2250.93244  3060528590000   0.000066\n",
      "The most profitable 5 year period started in 1995\n"
     ]
    }
   ],
   "source": [
    "data_frame = pd.read_csv(\"SP500.csv\")\n",
    "\n",
    "five_year_data = pd.DataFrame(index=pd.period_range('1950', '2018', freq='5Y'), columns=['open', 'close', 'volume'])\n",
    "\n",
    "for period in five_year_data.index:\n",
    "    \n",
    "    period_start = period.start_time.strftime('%Y')\n",
    "    period_end = period.end_time.strftime('%Y')\n",
    "    period_dataframe = dataframe.loc[period_start:period_end]\n",
    "    \n",
    "    five_year_data.loc[period, 'open'] = np.mean(period_dataframe['Open'])\n",
    "    five_year_data.loc[period, 'close'] = np.mean(period_dataframe['Close'])\n",
    "    five_year_data.loc[period, 'volume'] = np.sum(period_dataframe['Volume'])\n",
    "    \n",
    "    five_year_data.loc[period, 'gain_loss'] = (five_year_data.loc[period, 'close'] - five_year_data.loc[period, 'open']) / five_year_data.loc[period, 'open']\n",
    "\n",
    "print(five_year_data)\n",
    "\n",
    "max_profit = np.argmax(five_year_data['gain_loss'])\n",
    "\n",
    "\n",
    "print(\"The most profitable 5 year period started in \" + str(five_year_data.index[max_profit]))\n"
   ]
  }
 ],
 "metadata": {
  "colab": {
   "provenance": []
  },
  "kernelspec": {
   "display_name": "Python 3 (ipykernel)",
   "language": "python",
   "name": "python3"
  },
  "language_info": {
   "codemirror_mode": {
    "name": "ipython",
    "version": 3
   },
   "file_extension": ".py",
   "mimetype": "text/x-python",
   "name": "python",
   "nbconvert_exporter": "python",
   "pygments_lexer": "ipython3",
   "version": "3.9.13"
  },
  "vscode": {
   "interpreter": {
    "hash": "40d3a090f54c6569ab1632332b64b2c03c39dcf918b08424e98f38b5ae0af88f"
   }
  }
 },
 "nbformat": 4,
 "nbformat_minor": 5
}
