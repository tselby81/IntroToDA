{
 "cells": [
  {
   "cell_type": "markdown",
   "id": "f896996e",
   "metadata": {},
   "source": [
    "### Group members: Niharika Rasthapuram, Tyler Blankenship, Kao Takahama, Tyler Selby, Zach Seitz, Safal Lamichhane \n",
    "\n",
    "### Due Date: 2/19/23\n",
    "\n",
    "Using what we have learned in Numpy Module to analyze SP500.csv file with Numpy array \n",
    "operations.  Please find answers to the following questions:"
   ]
  },
  {
   "cell_type": "markdown",
   "id": "1f2fed17",
   "metadata": {},
   "source": [
    "### 1) the highest daily gain and its date, the highest daily loss and its date"
   
   ]
  },
  {
   "cell_type": "code",
   "execution_count": null,
   "id": "aeb0d03c",
   "metadata": {},
   "outputs":
   "name": "stdout",
     "output_type": "stream",
     "text":[
"The highest profit was on 2008-10-13 and profit was 104.13000499999998
"The highest loss was on 17132 and the loss amount was -113.18994199999997
   ],
   "source": [
   "import numpy as np 
"import pandas as pd

"# lets create a data frame or load the CSV file 

"dataframe=pd.read_csv("SP500.csv")

"# Covert the excel data into out numpy array

"data= dataframe.values

"# lets get out the closinig amount to get max loss and gain
"closing_value= data[:,4]

"# lets create a array of daily closing difference
"gain = closing_value[1:] - closing_value [:-1]

"# we have the array of the gain now, we will get the maximum gain index and maximum loss index
"max_gain= np.argmax(gain)
"max_loss= np.argmin(gain)

"# lets get the date for max gain and max loss amount
"max_date=dataframe['Date'][max_gain +1]
"min_date=dataframe['Date'][max_loss +1]

"print(f"The highest profit was on {max_date} and profit was {gain[max_gain]}")
"print(f"The highest loss was on {max_loss} and the loss amount was {gain[max_loss]}")

   ]
  },
  {
   "cell_type": "markdown",
   "id": "cd472bb3",
   "metadata": {},
   "source": [
    "### 2) the most daily transaction volume and its date"
   ]
  },
  {
   "cell_type": "code",
   "execution_count": null,
   "id": "7996282b",
   "metadata": {},
   "outputs":
   "name": "stdout",
     "output_type": "stream",
     "text": [
   " The maximum transaction volume was on 2008-10-13 and the transaction volume was 11456230000],
   "source": [
"#the highest daily transaction volume and its date
"import numpy as np
"import pandas as pd

"dataframe= pd.read_csv("SP500.csv")

"data= dataframe.values

"#lets get the array for the volume

"volume= data[:,6]

"#lets find out the maximum volume from the data
"max_index=np.argmax(volume)
"date = dataframe ['Date'][max_index +1]

"print(f" The maximum transaction volume was on {date} and the transaction volume was {volume[max_index]}")
]
  },
  {
   "cell_type": "markdown",
   "id": "2eccdef8",
   "metadata": {},
   "source": [
    "### 3) a monthly report for year 2017-2018, which has monthly average open price, close price, transaction volume and gain/loss, and a query to find all of the months which have certain range of open prices "
   ]
  },
  {
   "cell_type": "code",
   "execution_count": null,
   "id": "c92465a1",
   "metadata": {},
   "outputs":[

   ],
   "source": []
  },
  {
   "cell_type": "markdown",
   "id": "cabf0f3b",
   "metadata": {},
   "source": [
    "### 4) a yearly report which has annual average open price, close price, transaction volume and gain/loss from 1950 to 2018, and the most profitable year"
   ]
  },
  {
   "cell_type": "code",
   "execution_count": null,
   "id": "df9cf279",
   "metadata": {},
   "outputs": [],
   "source": []
  },
  {
   "cell_type": "markdown",
   "id": "47189030",
   "metadata": {},
   "source": [
    "### 5) a every other five year report which has every five year average open price, close price, transaction volume and gain/loss from 1950 to 2018, and the most profitable five year, "
   ]
  },
  {
   "cell_type": "code",
   "execution_count": null,
   "id": "c300773a",
   "metadata": {},
   "outputs": [],
   "source": []
  }
 ],
 "metadata": {
  "kernelspec": {
   "display_name": "Python 3 (ipykernel)",
   "language": "python",
   "name": "python3"
  },
  "language_info": {
   "codemirror_mode": {
    "name": "ipython",
    "version": 3
   },
   "file_extension": ".py",
   "mimetype": "text/x-python",
   "name": "python",
   "nbconvert_exporter": "python",
   "pygments_lexer": "ipython3",
   "version": "3.8.5"
  }
 },
 "nbformat": 4,
 "nbformat_minor": 5
}
