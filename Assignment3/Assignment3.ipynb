{
  "cells": [
    {
      "cell_type": "markdown",
      "id": "f896996e",
      "metadata": {
        "id": "f896996e"
      },
      "source": [
        "### Group members: Niharika Rasthapuram, Tyler Blankenship, Kao Takahama, Tyler Selby, Zach Seitz, Safal Lamichhane \n",
        "\n",
        "### Due Date: 2/19/23\n",
        "\n",
        "Using what we have learned in Numpy Module to analyze SP500.csv file with Numpy array \n",
        "operations.  Please find answers to the following questions:"
      ]
    },
    {
      "cell_type": "markdown",
      "id": "1f2fed17",
      "metadata": {
        "id": "1f2fed17"
      },
      "source": [
        "### 1) the highest daily gain and its date, the highest daily loss and its date"
      ]
    },
    {
      "cell_type": "code",
      "execution_count": null,
      "id": "aeb0d03c",
      "metadata": {
        "id": "aeb0d03c"
      },
      "outputs": [],
      "source": [
        "#the highest daily transaction volume and its date\n",
        "import numpy as np\n",
        "import pandas as pd\n",
        "\n",
        "dataframe= pd.read_csv(\"SP500.csv\")\n",
        "\n",
        "data= dataframe.values\n",
        "\n",
        "#lets get the array for the volume\n",
        "\n",
        "volume= data[:,6]\n",
        "\n",
        "#lets find out the maximum volume from the data\n",
        "max_index=np.argmax(volume)\n",
        "date = dataframe ['Date'][max_index +1]\n",
        "\n",
        "print(f\" The maximum transaction volume was on {date} and the transaction volume was {volume[max_index]}\")\n"
      ]
    },
    {
      "cell_type": "markdown",
      "source": [
        " The maximum transaction volume was on 2008-10-13 and the transaction  volume was 11456230000"
      ],
      "metadata": {
        "id": "TkRKPVOSrguo"
      },
      "id": "TkRKPVOSrguo"
    },
    {
      "cell_type": "markdown",
      "id": "cd472bb3",
      "metadata": {
        "id": "cd472bb3"
      },
      "source": [
        "### 2) the most daily transaction volume and its date"
      ]
    },
    {
      "cell_type": "code",
      "execution_count": null,
      "id": "7996282b",
      "metadata": {
        "id": "7996282b"
      },
      "outputs": [],
      "source": [
        "import numpy as np \n",
        "import pandas as pd\n",
        "\n",
        "# lets create a data frame or load the CSV file \n",
        "\n",
        "dataframe=pd.read_csv(\"SP500.csv\")\n",
        "\n",
        "# Covert the excel data into out numpy array\n",
        "\n",
        "data= dataframe.values\n",
        "\n",
        "# lets get out the closinig amount to get max loss and gain\n",
        "closing_value= data[:,4]\n",
        "\n",
        "# lets create a array of daily closing difference\n",
        "gain = closing_value[1:] - closing_value [:-1]\n",
        "\n",
        "# we have the array of the gain now, we will get the maximum gain index and maximum loss index\n",
        "max_gain= np.argmax(gain)\n",
        "max_loss= np.argmin(gain)\n",
        "\n",
        "# lets get the date for max gain and max loss amount\n",
        "max_date=dataframe['Date'][max_gain +1]\n",
        "min_date=dataframe['Date'][max_loss +1]\n",
        "\n",
        "print(f\"The highest profit was on {max_date} and profit was {gain[max_gain]}\")\n",
        "print(f\"The highest loss was on {max_loss} and the loss amount was {gain[max_loss]}\")\n"
      ]
    },
    {
      "cell_type": "markdown",
      "source": [
        "\n",
        "The highest profit was on 2008-10-13 and profit was 104.13000499999998\n",
        "The highest loss was on 17132 and the loss amount was -113.18994199999997"
      ],
      "metadata": {
        "id": "_FzjC_vCr35i"
      },
      "id": "_FzjC_vCr35i"
    },
    {
      "cell_type": "markdown",
      "id": "2eccdef8",
      "metadata": {
        "id": "2eccdef8"
      },
      "source": [
        "### 3) a monthly report for year 2017-2018, which has monthly average open price, close price, transaction volume and gain/loss, and a query to find all of the months which have certain range of open prices "
      ]
    },
    {
      "cell_type": "code",
      "execution_count": null,
      "id": "c92465a1",
      "metadata": {
        "id": "c92465a1"
      },
      "outputs": [],
      "source": []
    },
    {
      "cell_type": "markdown",
      "id": "cabf0f3b",
      "metadata": {
        "id": "cabf0f3b"
      },
      "source": [
        "### 4) a yearly report which has annual average open price, close price, transaction volume and gain/loss from 1950 to 2018, and the most profitable year"
      ]
    },
    {
      "cell_type": "code",
      "execution_count": null,
      "id": "df9cf279",
      "metadata": {
        "id": "df9cf279"
      },
      "outputs": [],
      "source": []
    },
    {
      "cell_type": "markdown",
      "id": "47189030",
      "metadata": {
        "id": "47189030"
      },
      "source": [
        "### 5) a every other five year report which has every five year average open price, close price, transaction volume and gain/loss from 1950 to 2018, and the most profitable five year, "
      ]
    },
    {
      "cell_type": "code",
      "execution_count": null,
      "id": "c300773a",
      "metadata": {
        "id": "c300773a"
      },
      "outputs": [],
      "source": []
    }
  ],
  "metadata": {
    "kernelspec": {
      "display_name": "Python 3 (ipykernel)",
      "language": "python",
      "name": "python3"
    },
    "language_info": {
      "codemirror_mode": {
        "name": "ipython",
        "version": 3
      },
      "file_extension": ".py",
      "mimetype": "text/x-python",
      "name": "python",
      "nbconvert_exporter": "python",
      "pygments_lexer": "ipython3",
      "version": "3.8.5"
    },
    "colab": {
      "provenance": []
    }
  },
  "nbformat": 4,
  "nbformat_minor": 5
}