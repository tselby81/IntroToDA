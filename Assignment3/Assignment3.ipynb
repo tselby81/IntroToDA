{
 "cells": [
  {
   "cell_type": "markdown",
   "id": "2389e620",
   "metadata": {},
   "source": [
    "### Group members: Niharika Rasthapuram, Tyler Blankenship, Kao Takahama, Tyler Selby, Zach Seitz, Safal Lamichhane \n",
    "\n",
    "### Due Date: 2/19/23\n",
    "\n",
    "### Using what we have learned in Numpy Module to analyze SP500.csv file with Numpy array operations.  Please find answers to the following questions:"
   ]
  },
  {
   "cell_type": "markdown",
   "id": "b0ec8ce1",
   "metadata": {},
   "source": [
    "### 1) the highest daily gain and its date, the highest daily loss and its date"
   ]
  },
  {
   "cell_type": "code",
   "execution_count": null,
   "id": "226c3ebe",
   "metadata": {},
   "outputs": [],
   "source": []
  },
  {
   "cell_type": "markdown",
   "id": "9285769c",
   "metadata": {},
   "source": [
    "### 2) the most daily transaction volume and its date"
   ]
  },
  {
   "cell_type": "code",
   "execution_count": null,
   "id": "48278e1c",
   "metadata": {},
   "outputs": [],
   "source": []
  },
  {
   "cell_type": "markdown",
   "id": "2952662c",
   "metadata": {},
   "source": [
    "### 3) a monthly report for year 2017-2018, which has monthly average open price, close price, transaction volume and gain/loss, and a query to find all of the months which have certain range of open prices "
   ]
  },
  {
   "cell_type": "code",
   "execution_count": null,
   "id": "415dbda2",
   "metadata": {},
   "outputs": [],
   "source": []
  },
  {
   "cell_type": "markdown",
   "id": "f4994398",
   "metadata": {},
   "source": [
    "### 4) a yearly report which has annual average open price, close price, transaction volume and gain/loss from 1950 to 2018, and the most profitable year"
   ]
  },
  {
   "cell_type": "code",
   "execution_count": null,
   "id": "e824f90c",
   "metadata": {},
   "outputs": [],
   "source": []
  },
  {
   "cell_type": "markdown",
   "id": "720bf39f",
   "metadata": {},
   "source": [
    "### 5) a every other five year report which has every five year average open price, close price, transaction volume and gain/loss from 1950 to 2018, and the most profitable five year, "
   ]
  },
  {
   "cell_type": "code",
   "execution_count": null,
   "id": "fa9375c3",
   "metadata": {},
   "outputs": [],
   "source": []
  }
 ],
 "metadata": {
  "kernelspec": {
   "display_name": "Python 3 (ipykernel)",
   "language": "python",
   "name": "python3"
  },
  "language_info": {
   "codemirror_mode": {
    "name": "ipython",
    "version": 3
   },
   "file_extension": ".py",
   "mimetype": "text/x-python",
   "name": "python",
   "nbconvert_exporter": "python",
   "pygments_lexer": "ipython3",
   "version": "3.8.5"
  }
 },
 "nbformat": 4,
 "nbformat_minor": 5
}
