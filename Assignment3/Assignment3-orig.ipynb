{
 "cells": [
  {
   "cell_type": "markdown",
   "id": "f896996e",
   "metadata": {},
   "source": [
    "### Group members: Niharika Rasthapuram, Tyler Blankenship, Kao Takahama, Tyler Selby, Zach Seitz, Safal Lamichhane \n",
    "\n",
    "### Due Date: 2/19/23\n",
    "\n",
    
   ]
  },
  {
   "cell_type": "markdown",
   "id": "1f2fed17",
   "metadata": {},
   "source": [
    "### 1) the highest daily gain and its date, the highest daily loss and its date"
   
   ]
  },
  {
   "cell_type": "code",
   "execution_count": null,
   "id": "aeb0d03c",
   "metadata": {},
   "outputs":
   "name": "stdout",
     "output_type": "stream",
     "text":[

   ],
   "source": [

   ]
  },
  {
   "cell_type": "markdown",
   "id": "cd472bb3",
   "metadata": {},
   "source": [
    "### 2) the most daily transaction volume and its date"
   ]
  },
  {
   "cell_type": "code",
   "execution_count": null,
   "id": "7996282b",
   "metadata": {},
   "outputs":
   "name": "stdout",
     "output_type": "stream",
     "text": [
   " ],
   "source": [

]
  },
  {
   "cell_type": "markdown",
   "id": "2eccdef8",
   "metadata": {},
   "source": [
    "### 3) a monthly report for year 2017-2018, which has monthly average open price, close price, transaction volume and gain/loss, and a query to find all of the months which have certain range of open prices "
   ]
  },
  {
   "cell_type": "code",
   "execution_count": null,
   "id": "c92465a1",
   "metadata": {},
   "outputs":[

   ],
   "source": []
  },
  {
   "cell_type": "markdown",
   "id": "cabf0f3b",
   "metadata": {},
   "source": [
    "### 4) a yearly report which has annual average open price, close price, transaction volume and gain/loss from 1950 to 2018, and the most profitable year"
   ]
  },
  {
   "cell_type": "code",
   "execution_count": null,
   "id": "df9cf279",
   "metadata": {},
   "outputs": [],
   "source": []
  },
  {
   "cell_type": "markdown",
   "id": "47189030",
   "metadata": {},
   "source": [
    "### 5) a every other five year report which has every five year average open price, close price, transaction volume and gain/loss from 1950 to 2018, and the most profitable five year, "
   ]
  },
  {
   "cell_type": "code",
   "execution_count": null,
   "id": "c300773a",
   "metadata": {},
   "outputs": [],
   "source": []
  }
 ],
 "metadata": {
  "kernelspec": {
   "display_name": "Python 3 (ipykernel)",
   "language": "python",
   "name": "python3"
  },
  "language_info": {
   "codemirror_mode": {
    "name": "ipython",
    "version": 3
   },
   "file_extension": ".py",
   "mimetype": "text/x-python",
   "name": "python",
   "nbconvert_exporter": "python",
   "pygments_lexer": "ipython3",
   "version": "3.8.5"
  }
 },
 "nbformat": 4,
 "nbformat_minor": 5
}
