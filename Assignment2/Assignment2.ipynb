{
 "cells": [
  {
   "cell_type": "markdown",
   "id": "a3cc7f2b",
   "metadata": {},
   "source": [
    "### Group members: Niharika Rasthapuram, Tyler Blankenship, Kao Takahama, Tyler Selby, Zach Seitz, Safal Lamichhane\n",
    "\n",
    "### Due Date: 2/5/23\n",
    " \n"
   ]
  },
  {
   "cell_type": "markdown",
   "id": "bccbb79c",
   "metadata": {},
   "source": [
    "### 1) Using our class example unit2_07 Employee class, create five different employees who earn different salary and are different age. Then use List comprehension to find the top three salary employees and display all of their information"
   ]
  },
  {
   "cell_type": "code",
   "execution_count": 43,
   "id": "ae5e1252",
   "metadata": {},
   "outputs": [
    {
     "name": "stdout",
     "output_type": "stream",
     "text": [
      "[{'name': 'Antonin', 'salary': 39000, 'age': 26}, {'name': 'Lewis', 'salary': 38000, 'age': 25}, {'name': 'Byron', 'salary': 37000, 'age': 24}]\n"
     ]
    }
   ],
   "source": [
    "# Base Employee class from unit2_07\n",
    "class Employee:\n",
    "    'Common base class for all employees'\n",
    "    empCount = 0 #class attribute\n",
    "    \n",
    "    # List of all employee instances\n",
    "    employees = []\n",
    "    \n",
    "    #name, salary and _age are instance attributes\n",
    "    def __init__(self, name, salary, age): #initializer must have at least argument beside self\n",
    "        self.name = name\n",
    "        self.salary = salary\n",
    "        self.__age = age\n",
    "        Employee.empCount += 1\n",
    "        Employee.employees.append({'name': name, 'salary': salary, 'age': age})\n",
    "    \n",
    "    def displayCount(self):\n",
    "        print(\"Total Employee: {0}\".format(Employee.empCount))\n",
    "        \n",
    "    def displayEmployee(self):\n",
    "        print(\"Name : {0}, Salary: {1}, Age: {2}\".format(self.name,self.salary, self.__age))\n",
    "        \n",
    "    @classmethod\n",
    "    def get_employees(cls):\n",
    "        \"\"\"Return list of employee instances (dictiontary of employee information)\"\"\"\n",
    "        return Employee.employees\n",
    "    \n",
    "# Instantiate five employees\n",
    "bill = Employee('Bill', 35000, 22)\n",
    "sandra = Employee('Sandra', 36000, 23)\n",
    "byron = Employee('Byron', 37000, 24)\n",
    "lewis = Employee('Lewis', 38000, 25) \n",
    "antonin = Employee('Antonin', 39000, 26)\n",
    "\n",
    "\n",
    "# Use list comprehension to get employees with the three highest salaries\n",
    "highest = [employee for employee in sorted(Employee.get_employees(), \n",
    "                                           reverse=True, \n",
    "                                           key=lambda emp: emp['salary'])[0:3]]\n",
    "# Display the information\n",
    "print(highest)"
   ]
  },
  {
   "cell_type": "markdown",
   "id": "c6f1591e",
   "metadata": {},
   "source": [
    "### 2) Create a Company class that holds instances of employees. Then assign five employee instances to an instance of the Company class. Next, add a work() method to both the Company and Employee classes so that when you call the method on the Company class, each Employee instance assigned to the Employee class will work(). Test the Company’s work()."
   ]
  },
  {
   "cell_type": "code",
   "execution_count": 3,
   "id": "409b2d99",
   "metadata": {},
   "outputs": [
    {
     "name": "stdout",
     "output_type": "stream",
     "text": [
      "Tyler B  is working.\n",
      "Tyler  is working.\n",
      "Zach is working.\n",
      "Safal is working.\n",
      "Belle is working.\n"
     ]
    }
   ],
   "source": [
    "# lets create a class first for Employee and Company also we will use initialize and work method\n",
    "class Employee:    \n",
    "    def __init__(self, name, age, salary):\n",
    "        self.name = name\n",
    "        self.age = age\n",
    "        self.salary = salary    \n",
    "    \n",
    "    def work(self):\n",
    "        print(f\"{self.name} is working.\")\n",
    "    \n",
    "class Company:\n",
    "    def __init__(self, employees=[]):\n",
    "        self.employees = employees\n",
    "        \n",
    "    def add_employee(self, employee):\n",
    "        self.employees.append(employee) \n",
    "        \n",
    "    def work(self):        \n",
    "        for employee in self.employees:            \n",
    "            employee.work()\n",
    "        \n",
    "# Lets create 5 employee instance now\n",
    "e1 = Employee(\"Tyler B \", 23, 500)\n",
    "e2 = Employee(\"Tyler \", 21, 600)\n",
    "e3 = Employee(\"Zach\", 20,200)\n",
    "e4 = Employee(\"Safal\", 24,200)\n",
    "e5 = Employee(\"Belle\", 21,300)\n",
    "\n",
    "# Assign the five employee instances we create above to Company class\n",
    "c = Company([e1, e2, e3, e4, e5])\n",
    "\n",
    "# Checking if the company method calls \n",
    "c.work()"
   ]
  },
  {
   "cell_type": "markdown",
   "id": "00a41a8e",
   "metadata": {},
   "source": [
    "### 3) Create ten different employees from a file: read employee data from a file(.txt or .json), then use generator to create a list of ten employees, sort the employee list by their name, use generator to raise every employee’s salary by 5%, then use generator to create a dictionary of the employees where the keys of the dictionary items are from range(10) and print them out. Furthermore, use itertools’s groupby() method to group employees by age group (younger than 20, 21-30, 31-50, 51-65, older than 65)"
   ]
  },
  {
   "cell_type": "code",
   "execution_count": 69,
   "id": "0f7b8f96",
   "metadata": {},
   "outputs": [
    {
     "name": "stdout",
     "output_type": "stream",
     "text": [
      "{0: Employee(name='Adam', age=35, salary=1050.0), 1: Employee(name='Belle', age=21, salary=315.0), 2: Employee(name='Ben', age=20, salary=84.0), 3: Employee(name='Jim', age=18, salary=105.0), 4: Employee(name='Kao', age=28, salary=945.0), 5: Employee(name='Safal', age=24, salary=210.0), 6: Employee(name='Sam', age=23, salary=189.0), 7: Employee(name='Tyler', age=21, salary=630.0), 8: Employee(name='Tyler B', age=23, salary=525.0), 9: Employee(name='Zach', age=20, salary=210.0)}\n",
      "{'younger than 20': [Employee(name='Jim', age=18, salary=105.0)], '21-30': [Employee(name='Ben', age=20, salary=84.0), Employee(name='Zach', age=20, salary=210.0), Employee(name='Belle', age=21, salary=315.0), Employee(name='Tyler', age=21, salary=630.0), Employee(name='Sam', age=23, salary=189.0), Employee(name='Tyler B', age=23, salary=525.0), Employee(name='Safal', age=24, salary=210.0), Employee(name='Kao', age=28, salary=945.0)], '31-50': [Employee(name='Adam', age=35, salary=1050.0)]}\n"
     ]
    }
   ],
   "source": [
    "import json\n",
    "import itertools\n",
    "\n",
    "class Employee:\n",
    "    def __init__(self, name, age, salary):\n",
    "        self.name = name\n",
    "        self.age = age\n",
    "        self.salary = salary\n",
    "\n",
    "    def __repr__(self):\n",
    "        return f\"Employee(name='{self.name}', age={self.age}, salary={self.salary})\"\n",
    "\n",
    "def read_employee_data(file_path):\n",
    "    with open(file_path, 'r') as file:\n",
    "        data = json.load(file)\n",
    "    return (Employee(item['name'], item['age'], item['salary']) for item in data)\n",
    "\n",
    "def increase_salary(employee_list, percentage):\n",
    "    for employee in employee_list:\n",
    "        employee.salary *= (1 + percentage / 100)\n",
    "    return employee_list\n",
    "\n",
    "def employee_dict(employee_list):\n",
    "    return {i: employee for i, employee in enumerate(employee_list)}\n",
    "\n",
    "def write_employee_data(file_path, employee_dict_out):\n",
    "    with open(file_path, 'w') as json_file:\n",
    "        json.dump(employee_dict_out.to_dict(), json_file)\n",
    "\n",
    "def group_by_age(employee_list):\n",
    "    def age_group(employee):\n",
    "        if employee.age < 20:\n",
    "            return 'younger than 20'\n",
    "        elif 20 <= employee.age <= 30:\n",
    "            return '21-30'\n",
    "        elif 31 <= employee.age <= 50:\n",
    "            return '31-50'\n",
    "        elif 51 <= employee.age <= 65:\n",
    "            return '51-65'\n",
    "        else:\n",
    "            return 'older than 65'\n",
    "    \n",
    "    employee_list = sorted(employee_list, key=lambda x: x.age)\n",
    "    groups = itertools.groupby(employee_list, key=age_group)\n",
    "    return {age_group: list(employees) for age_group, employees in groups}\n",
    "\n",
    "if __name__ == '__main__':\n",
    "    employees = read_employee_data('employee_data.json')\n",
    "    employees = sorted(employees, key=lambda x: x.name)[:10]\n",
    "    employees = list(increase_salary(employees, 5))\n",
    "    employee_dict = employee_dict(employees)\n",
    "    print(employee_dict)\n",
    "    #write_employee_data('employee_data.json', employee_dict)\n",
    "    age_groups = group_by_age(employees)\n",
    "    print(age_groups)"
   ]
  },
  {
   "cell_type": "markdown",
   "id": "f9effcf2",
   "metadata": {},
   "source": [
    "### 4) Create a EmployeeD class which is a subclass of UserDict and overrides __getitem__ and __setitem__ methods. Then read from your provided file to create a sequence of EmployeeD instances using generator function and print the total salaries."
   ]
  },
  {
   "cell_type": "code",
   "execution_count": 46,
   "id": "ee277b15",
   "metadata": {},
   "outputs": [
    {
     "name": "stdout",
     "output_type": "stream",
     "text": [
      "Salary for Calen\n",
      "20000\n",
      "\n",
      "Salary for Kelsi\n",
      "16000\n",
      "\n",
      "Salary for Luke\n",
      "16000\n",
      "\n",
      "Salary for Gracelyn\n",
      "16000\n",
      "\n",
      "Salary for Alandry\n",
      "18000\n",
      "\n",
      "Salary for Ginny\n",
      "35000\n",
      "\n",
      "Salary for Myron\n",
      "65000\n",
      "\n",
      "Salary for James\n",
      "50000\n",
      "\n",
      "Salary for Denise\n",
      "30000\n",
      "\n",
      "Salary for Chasney\n",
      "22000\n",
      "\n",
      "Total salary: 288000\n"
     ]
    }
   ],
   "source": [
    "from collections import UserDict\n",
    "\n",
    "class EmployeeD(UserDict):\n",
    "    def __init__(self, name, age, salary):\n",
    "        self.data = {\"Name\": name, \n",
    "                     \"Age\": age, \n",
    "                     \"Salary\": salary}\n",
    "        \n",
    "    def __getitem__(self, key):\n",
    "        return self.data[key]\n",
    "        \n",
    "    def __setitem__(self, key, value):\n",
    "        self.data[key] = value\n",
    "        \n",
    "def emp_reader(file):\n",
    "    for row in open(file, 'r'):\n",
    "        yield row\n",
    "\n",
    "employees = emp_reader(\"employees.txt\")\n",
    "\n",
    "total = 0\n",
    "\n",
    "for row in employees:\n",
    "    employee = EmployeeD(row, next(employees), next(employees))\n",
    "    name = employee[\"Name\"]\n",
    "    salary = employee[\"Salary\"]\n",
    "    print(f\"Salary for {name}{salary}\")\n",
    "    total += int(salary)\n",
    "print(f\"Total salary: {total}\")\n",
    "    \n",
    "    \n"
   ]
  },
  {
   "cell_type": "markdown",
   "id": "6743040c",
   "metadata": {},
   "source": [
    "### 5) Using what we have learned in Unit2 to analyze provided real estate transaction .csv file, you can use SP500 example as reference. Please find the highest and lowest transactions for each category of real estate: condo, residential and multi-family. Please note you are not allowed to use Pandas for this problem."
   ]
  },
  {
   "cell_type": "code",
   "execution_count": 68,
   "id": "4bd7abcc",
   "metadata": {},
   "outputs": [
    {
     "name": "stdout",
     "output_type": "stream",
     "text": [
      "Lowest condo: 56950; Highest condo: 360000\n",
      "Lowest residential: 59222; Highest residential: 884790\n",
      "Lowest multi-family: 100000; Highest multi-family: 416767\n"
     ]
    }
   ],
   "source": [
    "import csv\n",
    "\n",
    "with open(\"Sacramentorealestatetransactions.csv\") as file:\n",
    "    reader = csv.reader(file)\n",
    "    low_condo = None\n",
    "    high_condo = None\n",
    "    low_res = None\n",
    "    high_res = None\n",
    "    low_fam = None\n",
    "    high_fam = None\n",
    "    \n",
    "    for row in reader:\n",
    "        if \"Condo\" in row:\n",
    "            if high_condo == None:\n",
    "                high_condo = int(row[9])\n",
    "            elif int(row[9]) > high_condo:\n",
    "                high_condo = int(row[9])\n",
    "            \n",
    "            if low_condo == None:\n",
    "                low_condo = int(row[9])\n",
    "            elif int(row[9]) < low_condo:\n",
    "                low_condo = int(row[9])\n",
    "\n",
    "        if \"Residential\" in row:\n",
    "            if high_res == None:\n",
    "                high_res = int(row[9])\n",
    "            elif int(row[9]) > high_res:\n",
    "                high_res = int(row[9])\n",
    "            \n",
    "            if low_res == None:\n",
    "                low_res = int(row[9])\n",
    "            elif int(row[9]) < low_res:\n",
    "                low_condo = int(row[9])\n",
    "    \n",
    "        if \"Multi-Family\" in row:\n",
    "            if high_fam == None:\n",
    "                high_fam = int(row[9])\n",
    "            elif int(row[9]) > high_fam:\n",
    "                high_fam = int(row[9])\n",
    "            \n",
    "            if low_fam == None:\n",
    "                low_fam = int(row[9])\n",
    "            elif int(row[9]) < low_fam:\n",
    "                low_fam = int(row[9])\n",
    "                \n",
    "print(f\"Lowest condo: {low_condo}; Highest condo: {high_condo}\")\n",
    "print(f\"Lowest residential: {low_res}; Highest residential: {high_res}\")\n",
    "print(f\"Lowest multi-family: {low_fam}; Highest multi-family: {high_fam}\")"
   ]
  }
 ],
 "metadata": {
  "kernelspec": {
   "display_name": "Python 3 (ipykernel)",
   "language": "python",
   "name": "python3"
  },
  "language_info": {
   "codemirror_mode": {
    "name": "ipython",
    "version": 3
   },
   "file_extension": ".py",
   "mimetype": "text/x-python",
   "name": "python",
   "nbconvert_exporter": "python",
   "pygments_lexer": "ipython3",
   "version": "3.8.5"
  }
 },
 "nbformat": 4,
 "nbformat_minor": 5
}
