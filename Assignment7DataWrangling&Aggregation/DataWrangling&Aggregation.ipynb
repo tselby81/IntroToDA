{
 "cells": [
  {
   "cell_type": "markdown",
   "id": "aebbc254",
   "metadata": {},
   "source": [
    "Group members: Niharika Rasthapuram, Tyler Blankenship, Kao Takahama, Tyler Selby, Zach Seitz, Safal Lamichhane \n",
    "\n",
    "Due Date: 3/26/23"
   ]
  },
  {
   "cell_type": "markdown",
   "id": "b75dea5e",
   "metadata": {},
   "source": [
    "__Data Analytics Programming Assignment Data Wrangling and Aggregation__\n",
    "\n",
    "Please follow the instructions to complete the following Python\n",
    "programs. For each program, please also provide your own\n",
    "testing cases. Please complete them in either Jupyter notebook\n",
    "or with .py file and submit your programs and running results."
   ]
  },
  {
   "cell_type": "markdown",
   "id": "65099ddd",
   "metadata": {},
   "source": [
    "_Data wrangling on real estate transaction .csv file. Use our class Jupyter note\n",
    "note9_01_dataWrangling as an example to do the following:_"
   ]
  },
  {
   "cell_type": "markdown",
   "id": "e9fceed8",
   "metadata": {},
   "source": [
    "1) With Hierarchical Indexing, rearrange the data to create a first dataframe which will have\n",
    "first level of index of city, second level of index of zip, please also rename index and\n",
    "column to make them more understandable, such as change zip to zipcode. Display the\n",
    "first eight rows of data. Do some plotting to reflect this new dataframe."
   ]
  },
  {
   "cell_type": "code",
   "execution_count": null,
   "id": "674b308c",
   "metadata": {},
   "outputs": [],
   "source": []
  },
  {
   "cell_type": "markdown",
   "id": "df51904e",
   "metadata": {},
   "source": [
    "2) Try stack and unstack with the above created dataframe. Display the first eight rows of\n",
    "data."
   ]
  },
  {
   "cell_type": "code",
   "execution_count": null,
   "id": "6736c8b2",
   "metadata": {},
   "outputs": [],
   "source": []
  },
  {
   "cell_type": "markdown",
   "id": "ed79c149",
   "metadata": {},
   "source": [
    "3) With Hierarchical Indexing, rearrange the data to create a second dataframe which will\n",
    "have first level of index of city, second level of index of zip, columns of bed, bath and\n",
    "sale_date. Please also rename index and column to make them more understandable,\n",
    "such as change zip to zipcode. Display the first eight rows of data."
   ]
  },
  {
   "cell_type": "code",
   "execution_count": null,
   "id": "66748962",
   "metadata": {},
   "outputs": [],
   "source": []
  },
  {
   "cell_type": "markdown",
   "id": "0cfe6b7a",
   "metadata": {},
   "source": [
    "4) Reshape the above two newly created dataframes and merge them."
   ]
  },
  {
   "cell_type": "code",
   "execution_count": null,
   "id": "d812c3cb",
   "metadata": {},
   "outputs": [],
   "source": []
  },
  {
   "cell_type": "markdown",
   "id": "df551604",
   "metadata": {},
   "source": [
    "_Use our class Jupyter note note9_02_dataAggregation as an example to do further wrangling and\n",
    "aggregation work on the credit-data-non-null.csv file:_"
   ]
  },
  {
   "cell_type": "markdown",
   "id": "56816f13",
   "metadata": {},
   "source": [
    "5) Write a custom function called cap_value(x, cap) that will set x to the cap if x > cap.\n",
    "Then apply it to debt_ratio with a cap of 5."
   ]
  },
  {
   "cell_type": "code",
   "execution_count": null,
   "id": "581e48c4",
   "metadata": {},
   "outputs": [],
   "source": []
  },
  {
   "cell_type": "markdown",
   "id": "2aff1ee3",
   "metadata": {},
   "source": [
    "6) Use groupby to calculate the percent of customers that went bad for each age"
   ]
  },
  {
   "cell_type": "code",
   "execution_count": null,
   "id": "85471437",
   "metadata": {},
   "outputs": [],
   "source": []
  },
  {
   "cell_type": "markdown",
   "id": "7aacb8bc",
   "metadata": {},
   "source": [
    "7) Add a new column age_group for the dataframe. Divide the age into groups of every 10\n",
    "years in ascending order, then rearrange the data to match the age_group categorization.\n",
    "Display the first eight rows of data. Do some plotting to reflect it. Use age_group for\n",
    "data aggregation on revolving_utilization_of_unsecured_lines and monthly_income.\n",
    "Display the result."
   ]
  },
  {
   "cell_type": "code",
   "execution_count": null,
   "id": "8480bc68",
   "metadata": {},
   "outputs": [],
   "source": []
  },
  {
   "cell_type": "markdown",
   "id": "28c68190",
   "metadata": {},
   "source": [
    "8) Regroup data using number_real_estate_loans_or_lines and serious_dlqin2yrs, display\n",
    "the first eight rows of data and do some plotting to reflect this it. Then do count, mean,\n",
    "max, min on revolving_utilization_of_unsecured_lines and monthly_income. Display the\n",
    "result. Then select the top five monthly_income values by group and display it."
   ]
  },
  {
   "cell_type": "code",
   "execution_count": null,
   "id": "a1bf1152",
   "metadata": {},
   "outputs": [],
   "source": []
  }
 ],
 "metadata": {
  "kernelspec": {
   "display_name": "Python 3 (ipykernel)",
   "language": "python",
   "name": "python3"
  },
  "language_info": {
   "codemirror_mode": {
    "name": "ipython",
    "version": 3
   },
   "file_extension": ".py",
   "mimetype": "text/x-python",
   "name": "python",
   "nbconvert_exporter": "python",
   "pygments_lexer": "ipython3",
   "version": "3.9.13"
  }
 },
 "nbformat": 4,
 "nbformat_minor": 5
}
