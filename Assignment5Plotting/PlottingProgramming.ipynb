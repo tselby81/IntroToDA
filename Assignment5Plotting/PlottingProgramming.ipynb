{
  "cells": [
    {
      "cell_type": "markdown",
      "id": "c48774aa",
      "metadata": {
        "id": "c48774aa"
      },
      "source": [
        "### Group members: Niharika Rasthapuram, Tyler Blankenship, Kao Takahama, Tyler Selby, Zach Seitz, Safal Lamichhane \n",
        "\n",
        "### Due Date: 3/21/23"
      ]
    },
    {
      "cell_type": "markdown",
      "id": "84169ee9",
      "metadata": {
        "id": "84169ee9"
      },
      "source": [
        "### real estate transaction .csv file\n",
        "### 1) Create a grid of scatter plots with each one representing the sq_ft distribution in a single zipcode, please also include ticks, labels and legend in your plot\n"
      ]
    },
    {
      "cell_type": "code",
      "execution_count": null,
      "id": "5e3021d0",
      "metadata": {
        "id": "5e3021d0"
      },
      "outputs": [],
      "source": []
    },
    {
      "cell_type": "markdown",
      "id": "419451c8",
      "metadata": {
        "id": "419451c8"
      },
      "source": [
        "### 2) Create a grid of scatter plots with each one representing the price distribution in a single zipcode, annotate the highest and lowest price ones for each category of real estate: condo, residential and multi-family, please also include ticks, labels and legend in your plot"
      ]
    },
    {
      "cell_type": "code",
      "execution_count": null,
      "id": "62eb215c",
      "metadata": {
        "id": "62eb215c"
      },
      "outputs": [],
      "source": []
    },
    {
      "cell_type": "markdown",
      "id": "ec1cc951",
      "metadata": {
        "id": "ec1cc951"
      },
      "source": [
        "### 3) Create a grid of bar plots with each one representing a single zipcode and in that zipcode the sq_ft distribution is grouped by the category of condo, residential and multi-family, please also include ticks, labels and legend in your plot"
      ]
    },
    {
      "cell_type": "code",
      "execution_count": null,
      "id": "813c25f8",
      "metadata": {
        "id": "813c25f8"
      },
      "outputs": [],
      "source": []
    },
    {
      "cell_type": "markdown",
      "id": "c1cccfc8",
      "metadata": {
        "id": "c1cccfc8"
      },
      "source": [
        "### 4) Create a grid of bar plots with each one representing a single zipcode and in that zipcode the price distribution is grouped by the category of condo, residential and multi-family, please also include ticks, labels and legend in your plot"
      ]
    },
    {
      "cell_type": "code",
      "execution_count": null,
      "id": "df261dd0",
      "metadata": {
        "id": "df261dd0"
      },
      "outputs": [],
      "source": []
    },
    {
      "cell_type": "markdown",
      "id": "6e5a4009",
      "metadata": {
        "id": "6e5a4009"
      },
      "source": [
        "### 5) Plot the average price distribution based on zipcode for each category of real estate: condo, residential and multi-family, please also include ticks, labels and legend in your plot"
      ]
    },
    {
      "cell_type": "code",
      "execution_count": null,
      "id": "66fedf05",
      "metadata": {
        "id": "66fedf05"
      },
      "outputs": [],
      "source": [
        "import pandas as pd\n",
        "import matplotlib.pyplot as plt\n",
        "\n",
        "# Load the CSV file into a pandas dataframe\n",
        "df = pd.read_csv('Sacramentorealestatetransactions.csv')\n",
        "\n",
        "# Group the data by zip code and type and calculate the average price\n",
        "group = df.groupby(['zip', 'type'])['price'].mean().reset_index()\n",
        "\n",
        "# Separate the data for each type\n",
        "condo_data = group[group['type'] == 'Condo']\n",
        "residential_data = group[group['type'] == 'Residential']\n",
        "multi_family_data = group[group['type'] == 'Multi-Family']\n",
        "\n",
        "# Create the plot\n",
        "plt.figure(figsize=(12, 6))\n",
        "plt.plot(condo_data['zip'], condo_data['price'], label='Condo')\n",
        "plt.plot(residential_data['zip'], residential_data['price'], label='Residential')\n",
        "plt.plot(multi_family_data['zip'], multi_family_data['price'], label='Multi-Family')\n",
        "plt.xlabel('Zip Code')\n",
        "plt.ylabel('Average Price')\n",
        "plt.title('Average Price Distribution by Zip Code and Property Type')\n",
        "plt.legend()\n",
        "plt.show()\n"
      ]
    },
    {
      "cell_type": "markdown",
      "id": "e6bd3231",
      "metadata": {
        "id": "e6bd3231"
      },
      "source": [
        "### 6) Plot the average price distribution based on city for each category of real estate: condo, residential and multi-family, please also include ticks, labels and legend in your plot"
      ]
    },
    {
      "cell_type": "code",
      "execution_count": null,
      "id": "374663de",
      "metadata": {
        "id": "374663de"
      },
      "outputs": [],
      "source": [
        "import pandas as pd\n",
        "import matplotlib.pyplot as plt\n",
        "\n",
        "# Load the CSV file into a pandas dataframe\n",
        "df = pd.read_csv('Sacramentorealestatetransactions.csv')\n",
        "\n",
        "# Group the data by zip code and type and calculate the average price\n",
        "group = df.groupby(['city', 'type'])['price'].mean().reset_index()\n",
        "\n",
        "# Separate the data for each type\n",
        "condo_data = group[group['type'] == 'Condo']\n",
        "residential_data = group[group['type'] == 'Residential']\n",
        "multi_family_data = group[group['type'] == 'Multi-Family']\n",
        "\n",
        "# Create the plot\n",
        "plt.figure(figsize=(12, 6))\n",
        "plt.plot(condo_data['city'], condo_data['price'], label='Condo')\n",
        "plt.plot(residential_data['city'], residential_data['price'], label='Residential')\n",
        "plt.plot(multi_family_data['city'], multi_family_data['price'], label='Multi-Family')\n",
        "plt.xlabel('City')\n",
        "plt.ylabel('Average Price')\n",
        "plt.title('Average Price Distribution by City and Property Type')\n",
        "plt.legend()\n",
        "plt.show()\n"
      ]
    },
    {
      "cell_type": "markdown",
      "id": "ebf30bca",
      "metadata": {
        "id": "ebf30bca"
      },
      "source": [
        "### SP500.csv file\n",
        "\n",
        "### 7) Plot daily gain/loss for January of 2018, annotate the highest daily gain and its date, the highestdaily loss and its date in January 2018"
      ]
    },
    {
      "cell_type": "code",
      "execution_count": null,
      "id": "5bd192c5",
      "metadata": {
        "id": "5bd192c5"
      },
      "outputs": [],
      "source": []
    },
    {
      "cell_type": "markdown",
      "id": "8f31e69d",
      "metadata": {
        "id": "8f31e69d"
      },
      "source": [
        "### 8) Make pair plot matrix of January 2018 SP500 data on high, low, adj close and volumn"
      ]
    },
    {
      "cell_type": "code",
      "execution_count": null,
      "id": "88051edc",
      "metadata": {
        "id": "88051edc"
      },
      "outputs": [],
      "source": []
    }
  ],
  "metadata": {
    "kernelspec": {
      "display_name": "Python 3 (ipykernel)",
      "language": "python",
      "name": "python3"
    },
    "language_info": {
      "codemirror_mode": {
        "name": "ipython",
        "version": 3
      },
      "file_extension": ".py",
      "mimetype": "text/x-python",
      "name": "python",
      "nbconvert_exporter": "python",
      "pygments_lexer": "ipython3",
      "version": "3.8.5"
    },
    "colab": {
      "provenance": []
    }
  },
  "nbformat": 4,
  "nbformat_minor": 5
}