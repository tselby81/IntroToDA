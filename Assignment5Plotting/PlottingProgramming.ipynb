{
  "cells": [
    {
      "cell_type": "markdown",
      "id": "c48774aa",
      "metadata": {
        "id": "c48774aa"
      },
      "source": [
        "### Group members: Niharika Rasthapuram, Tyler Blankenship, Kao Takahama, Tyler Selby, Zach Seitz, Safal Lamichhane \n",
        "\n",
        "### Due Date: 3/21/23"
      ]
    },
    {
      "cell_type": "markdown",
      "id": "84169ee9",
      "metadata": {
        "id": "84169ee9"
      },
      "source": [
        "### real estate transaction .csv file\n",
        "### 1) Create a grid of scatter plots with each one representing the sq_ft distribution in a single zipcode, please also include ticks, labels and legend in your plot\n"
      ]
    },
    {
      "cell_type": "code",
      "execution_count": null,
      "id": "5e3021d0",
      "metadata": {
        "id": "5e3021d0"
      },
      "outputs": [],
      "source": []
    },
    {
      "cell_type": "markdown",
      "id": "419451c8",
      "metadata": {
        "id": "419451c8"
      },
      "source": [
        "### 2) Create a grid of scatter plots with each one representing the price distribution in a single zipcode, annotate the highest and lowest price ones for each category of real estate: condo, residential and multi-family, please also include ticks, labels and legend in your plot"
      ]
    },
    {
      "cell_type": "code",
      "execution_count": null,
      "id": "62eb215c",
      "metadata": {
        "id": "62eb215c"
      },
      "outputs": [],
      "source": []
    },
    {
      "cell_type": "markdown",
      "id": "ec1cc951",
      "metadata": {
        "id": "ec1cc951"
      },
      "source": [
        "### 3) Create a grid of bar plots with each one representing a single zipcode and in that zipcode the sq_ft distribution is grouped by the category of condo, residential and multi-family, please also include ticks, labels and legend in your plot"
      ]
    },
    {
      "cell_type": "code",
      "execution_count": null,
      "id": "813c25f8",
      "metadata": {
        "id": "813c25f8"
      },
      "outputs": [],
      "source": [
        "# Get the list of unique zip codes\n",
        "zip_codes = data['zip'].unique()\n",
        "\n",
        "# Set up the plot grid\n",
        "n_rows = 3\n",
        "n_cols = 3\n",
        "grid_size = n_rows * n_cols\n",
        "\n",
        "# Iterate over the zip codes and plot the sq_ft distributions grouped by property type\n",
        "for i, zip_code in enumerate(zip_codes[:grid_size]):\n",
        "    fig, axes = plt.subplots(n_rows, n_cols, figsize=(15, 10))\n",
        "\n",
        "    # Get the data for the current zip code\n",
        "    zip_data = data[data['zip'] == zip_code]\n",
        "\n",
        "    # Group the data by property type and sq__ft\n",
        "    grouped_data = zip_data.groupby(['type', pd.cut(zip_data['sq__ft'], bins=range(0, 8001, 500))])['sq__ft'].count().unstack(level=0)\n",
        "\n",
        "    # Get the list of property types with data\n",
        "    property_types = grouped_data.columns.dropna()\n",
        "\n",
        "    # Iterate over the property types and plot the sq_ft distributions\n",
        "    for j, property_type in enumerate(property_types):\n",
        "        row = j // n_cols\n",
        "        col = j % n_cols\n",
        "        ax = axes[row, col]\n",
        "        ax.bar(grouped_data[property_type].index.astype(str), grouped_data[property_type])\n",
        "        ax.set_xlabel('Square Feet')\n",
        "        ax.set_ylabel('Count')\n",
        "        ax.set_title(f'Zip Code {zip_code} - Property Type: {property_type}')\n",
        "        ax.legend([property_type])\n",
        "\n",
        "    # Set the spacing between the plots\n",
        "    plt.tight_layout()\n",
        "\n",
        "    # Display the plot\n",
        "    plt.show()"
      ]
    },
    {
      "cell_type": "markdown",
      "id": "c1cccfc8",
      "metadata": {
        "id": "c1cccfc8"
      },
      "source": [
        "### 4) Create a grid of bar plots with each one representing a single zipcode and in that zipcode the price distribution is grouped by the category of condo, residential and multi-family, please also include ticks, labels and legend in your plot"
      ]
    },
    {
      "cell_type": "code",
      "execution_count": null,
      "id": "df261dd0",
      "metadata": {
        "id": "df261dd0"
      },
      "outputs": [],
      "source": [
        "# Get the list of unique zip codes\n",
        "zip_codes = data['zip'].unique()\n",
        "\n",
        "# Set up the plot grid\n",
        "n_rows = 3\n",
        "n_cols = 3\n",
        "grid_size = n_rows * n_cols\n",
        "\n",
        "# Iterate over the zip codes and plot the price distributions grouped by property type\n",
        "for i, zip_code in enumerate(zip_codes[:grid_size]):\n",
        "    fig, axes = plt.subplots(n_rows, n_cols, figsize=(15, 10))\n",
        "\n",
        "    # Get the data for the current zip code\n",
        "    zip_data = data[data['zip'] == zip_code]\n",
        "\n",
        "    # Group the data by property type and price\n",
        "    grouped_data = zip_data.groupby(['type', pd.cut(zip_data['price'], bins=range(0, 800001, 50000))])['price'].count().unstack(level=0)\n",
        "\n",
        "    # Get the list of property types with data\n",
        "    property_types = grouped_data.columns.dropna()\n",
        "\n",
        "    # Iterate over the property types and plot the price distributions\n",
        "    for j, property_type in enumerate(property_types):\n",
        "        row = j // n_cols\n",
        "        col = j % n_cols\n",
        "        ax = axes[row, col]\n",
        "        ax.bar(grouped_data[property_type].index.astype(str), grouped_data[property_type])\n",
        "        ax.set_xlabel('Price ($)')\n",
        "        ax.set_ylabel('Count')\n",
        "        ax.set_title(f'Zip Code {zip_code} - Property Type: {property_type}')\n",
        "        ax.legend([property_type])\n",
        "\n",
        "        # Annotate the highest and lowest price ones for each category of real estate\n",
        "        highest_price = zip_data.loc[zip_data['type'] == property_type, 'price'].max()\n",
        "        lowest_price = zip_data.loc[zip_data['type'] == property_type, 'price'].min()\n",
        "        ax.annotate(f'Highest Price: ${highest_price}', xy=(highest_price, 0), xytext=(highest_price * 1.1, 0), va='center', ha='left', arrowprops=dict(facecolor='black', arrowstyle='-|>'))\n",
        "        ax.annotate(f'Lowest Price: ${lowest_price}', xy=(lowest_price, 0), xytext=(lowest_price * 0.9, 0), va='center', ha='right', arrowprops=dict(facecolor='black', arrowstyle='-|>'))\n",
        "\n",
        "    # Set the spacing between the plots\n",
        "    plt.tight_layout()\n",
        "\n",
        "    # Display the plot\n",
        "    plt.show()"
      ]
    },
    {
      "cell_type": "markdown",
      "id": "6e5a4009",
      "metadata": {
        "id": "6e5a4009"
      },
      "source": [
        "### 5) Plot the average price distribution based on zipcode for each category of real estate: condo, residential and multi-family, please also include ticks, labels and legend in your plot"
      ]
    },
    {
      "cell_type": "code",
      "execution_count": null,
      "id": "66fedf05",
      "metadata": {
        "id": "66fedf05"
      },
      "outputs": [],
      "source": [
        "import pandas as pd\n",
        "import matplotlib.pyplot as plt\n",
        "\n",
        "# Load the CSV file into a pandas dataframe\n",
        "df = pd.read_csv('Sacramentorealestatetransactions.csv')\n",
        "\n",
        "# Group the data by zip code and type and calculate the average price\n",
        "group = df.groupby(['zip', 'type'])['price'].mean().reset_index()\n",
        "\n",
        "# Separate the data for each type\n",
        "condo_data = group[group['type'] == 'Condo']\n",
        "residential_data = group[group['type'] == 'Residential']\n",
        "multi_family_data = group[group['type'] == 'Multi-Family']\n",
        "\n",
        "# Create the plot\n",
        "plt.figure(figsize=(12, 6))\n",
        "plt.plot(condo_data['zip'], condo_data['price'], label='Condo')\n",
        "plt.plot(residential_data['zip'], residential_data['price'], label='Residential')\n",
        "plt.plot(multi_family_data['zip'], multi_family_data['price'], label='Multi-Family')\n",
        "plt.xlabel('Zip Code')\n",
        "plt.ylabel('Average Price')\n",
        "plt.title('Average Price Distribution by Zip Code and Property Type')\n",
        "plt.legend()\n",
        "plt.show()\n"
      ]
    },
    {
      "cell_type": "markdown",
      "id": "e6bd3231",
      "metadata": {
        "id": "e6bd3231"
      },
      "source": [
        "### 6) Plot the average price distribution based on city for each category of real estate: condo, residential and multi-family, please also include ticks, labels and legend in your plot"
      ]
    },
    {
      "cell_type": "code",
      "execution_count": null,
      "id": "374663de",
      "metadata": {
        "id": "374663de"
      },
      "outputs": [],
      "source": [
        "import pandas as pd\n",
        "import matplotlib.pyplot as plt\n",
        "\n",
        "# Load the CSV file into a pandas dataframe\n",
        "df = pd.read_csv('Sacramentorealestatetransactions.csv')\n",
        "\n",
        "# Group the data by zip code and type and calculate the average price\n",
        "group = df.groupby(['city', 'type'])['price'].mean().reset_index()\n",
        "\n",
        "# Separate the data for each type\n",
        "condo_data = group[group['type'] == 'Condo']\n",
        "residential_data = group[group['type'] == 'Residential']\n",
        "multi_family_data = group[group['type'] == 'Multi-Family']\n",
        "\n",
        "# Create the plot\n",
        "plt.figure(figsize=(12, 6))\n",
        "plt.plot(condo_data['city'], condo_data['price'], label='Condo')\n",
        "plt.plot(residential_data['city'], residential_data['price'], label='Residential')\n",
        "plt.plot(multi_family_data['city'], multi_family_data['price'], label='Multi-Family')\n",
        "plt.xlabel('City')\n",
        "plt.ylabel('Average Price')\n",
        "plt.title('Average Price Distribution by City and Property Type')\n",
        "plt.legend()\n",
        "plt.show()\n"
      ]
    },
    {
      "cell_type": "markdown",
      "id": "ebf30bca",
      "metadata": {
        "id": "ebf30bca"
      },
      "source": [
        "### SP500.csv file\n",
        "\n",
        "### 7) Plot daily gain/loss for January of 2018, annotate the highest daily gain and its date, the highestdaily loss and its date in January 2018"
      ]
    },
    {
      "cell_type": "code",
      "execution_count": null,
      "id": "5bd192c5",
      "metadata": {
        "id": "5bd192c5"
      },
      "outputs": [],
      "source": []
    },
    {
      "cell_type": "markdown",
      "id": "8f31e69d",
      "metadata": {
        "id": "8f31e69d"
      },
      "source": [
        "### 8) Make pair plot matrix of January 2018 SP500 data on high, low, adj close and volumn"
      ]
    },
    {
      "cell_type": "code",
      "execution_count": null,
      "id": "88051edc",
      "metadata": {
        "id": "88051edc"
      },
      "outputs": [],
      "source": []
    }
  ],
  "metadata": {
    "colab": {
      "provenance": []
    },
    "kernelspec": {
      "display_name": "Python 3 (ipykernel)",
      "language": "python",
      "name": "python3"
    },
    "language_info": {
      "codemirror_mode": {
        "name": "ipython",
        "version": 3
      },
      "file_extension": ".py",
      "mimetype": "text/x-python",
      "name": "python",
      "nbconvert_exporter": "python",
      "pygments_lexer": "ipython3",
      "version": "3.8.5"
    }
  },
  "nbformat": 4,
  "nbformat_minor": 5
}
