{
 "cells": [
  {
   "cell_type": "markdown",
   "id": "c48774aa",
   "metadata": {},
   "source": [
    "### Group members: Niharika Rasthapuram, Tyler Blankenship, Kao Takahama, Tyler Selby, Zach Seitz, Safal Lamichhane \n",
    "\n",
    "### Due Date: 3/21/23"
   ]
  },
  {
   "cell_type": "markdown",
   "id": "84169ee9",
   "metadata": {},
   "source": [
    "### real estate transaction .csv file\n",
    "### 1) Create a grid of scatter plots with each one representing the sq_ft distribution in a single zipcode, please also include ticks, labels and legend in your plot\n"
   ]
  },
  {
   "cell_type": "code",
   "execution_count": null,
   "id": "5e3021d0",
   "metadata": {},
   "outputs": [],
   "source": []
  },
  {
   "cell_type": "markdown",
   "id": "419451c8",
   "metadata": {},
   "source": [
    "### 2) Create a grid of scatter plots with each one representing the price distribution in a single zipcode, annotate the highest and lowest price ones for each category of real estate: condo, residential and multi-family, please also include ticks, labels and legend in your plot"
   ]
  },
  {
   "cell_type": "code",
   "execution_count": null,
   "id": "62eb215c",
   "metadata": {},
   "outputs": [],
   "source": []
  },
  {
   "cell_type": "markdown",
   "id": "ec1cc951",
   "metadata": {},
   "source": [
    "### 3) Create a grid of bar plots with each one representing a single zipcode and in that zipcode the sq_ft distribution is grouped by the category of condo, residential and multi-family, please also include ticks, labels and legend in your plot"
   ]
  },
  {
   "cell_type": "code",
   "execution_count": null,
   "id": "813c25f8",
   "metadata": {},
   "outputs": [],
   "source": []
  },
  {
   "cell_type": "markdown",
   "id": "c1cccfc8",
   "metadata": {},
   "source": [
    "### 4) Create a grid of bar plots with each one representing a single zipcode and in that zipcode the price distribution is grouped by the category of condo, residential and multi-family, please also include ticks, labels and legend in your plot"
   ]
  },
  {
   "cell_type": "code",
   "execution_count": null,
   "id": "df261dd0",
   "metadata": {},
   "outputs": [],
   "source": []
  },
  {
   "cell_type": "markdown",
   "id": "6e5a4009",
   "metadata": {},
   "source": [
    "### 5) Plot the average price distribution based on zipcode for each category of real estate: condo, residential and multi-family, please also include ticks, labels and legend in your plot"
   ]
  },
  {
   "cell_type": "code",
   "execution_count": null,
   "id": "66fedf05",
   "metadata": {},
   "outputs": [],
   "source": []
  },
  {
   "cell_type": "markdown",
   "id": "e6bd3231",
   "metadata": {},
   "source": [
    "### 6) Plot the average price distribution based on city for each category of real estate: condo, residential and multi-family, please also include ticks, labels and legend in your plot"
   ]
  },
  {
   "cell_type": "code",
   "execution_count": null,
   "id": "374663de",
   "metadata": {},
   "outputs": [],
   "source": []
  },
  {
   "cell_type": "markdown",
   "id": "ebf30bca",
   "metadata": {},
   "source": [
    "### SP500.csv file\n",
    "\n",
    "### 7) Plot daily gain/loss for January of 2018, annotate the highest daily gain and its date, the highestdaily loss and its date in January 2018"
   ]
  },
  {
   "cell_type": "code",
   "execution_count": null,
   "id": "5bd192c5",
   "metadata": {},
   "outputs": [],
   "source": []
  },
  {
   "cell_type": "markdown",
   "id": "8f31e69d",
   "metadata": {},
   "source": [
    "### 8) Make pair plot matrix of January 2018 SP500 data on high, low, adj close and volumn"
   ]
  },
  {
   "cell_type": "code",
   "execution_count": null,
   "id": "88051edc",
   "metadata": {},
   "outputs": [],
   "source": []
  }
 ],
 "metadata": {
  "kernelspec": {
   "display_name": "Python 3 (ipykernel)",
   "language": "python",
   "name": "python3"
  },
  "language_info": {
   "codemirror_mode": {
    "name": "ipython",
    "version": 3
   },
   "file_extension": ".py",
   "mimetype": "text/x-python",
   "name": "python",
   "nbconvert_exporter": "python",
   "pygments_lexer": "ipython3",
   "version": "3.8.5"
  }
 },
 "nbformat": 4,
 "nbformat_minor": 5
}
