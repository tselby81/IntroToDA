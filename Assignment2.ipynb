{
 "cells": [
  {
   "cell_type": "markdown",
   "id": "a3cc7f2b",
   "metadata": {},
   "source": [
    "### Group members: Niharika Rasthapuram, Tyler Blankenship, Kao Takahama, Tyler Selby, Zach Seitz, Safal Lamichhane\n",
    "\n",
    "### Due Date: 2/5/23\n",
    " \n"
   ]
  },
  {
   "cell_type": "markdown",
   "id": "bccbb79c",
   "metadata": {},
   "source": [
    "### 1) Using our class example unit2_07 Employee class, create five different employees who earn different salary and are different age. Then use List comprehension to find the top three salary employees and display all of their information"
   ]
  },
  {
   "cell_type": "code",
   "execution_count": 43,
   "id": "ae5e1252",
   "metadata": {},
   "outputs": [
    {
     "name": "stdout",
     "output_type": "stream",
     "text": [
      "[{'name': 'Antonin', 'salary': 39000, 'age': 26}, {'name': 'Lewis', 'salary': 38000, 'age': 25}, {'name': 'Byron', 'salary': 37000, 'age': 24}]\n"
     ]
    }
   ],
   "source": [
    "# Base Employee class from unit2_07\n",
    "class Employee:\n",
    "    'Common base class for all employees'\n",
    "    empCount = 0 #class attribute\n",
    "    \n",
    "    # List of all employee instances\n",
    "    employees = []\n",
    "    \n",
    "    #name, salary and _age are instance attributes\n",
    "    def __init__(self, name, salary, age): #initializer must have at least argument beside self\n",
    "        self.name = name\n",
    "        self.salary = salary\n",
    "        self.__age = age\n",
    "        Employee.empCount += 1\n",
    "        Employee.employees.append({'name': name, 'salary': salary, 'age': age})\n",
    "    \n",
    "    def displayCount(self):\n",
    "        print(\"Total Employee: {0}\".format(Employee.empCount))\n",
    "        \n",
    "    def displayEmployee(self):\n",
    "        print(\"Name : {0}, Salary: {1}, Age: {2}\".format(self.name,self.salary, self.__age))\n",
    "        \n",
    "    @classmethod\n",
    "    def get_employees(cls):\n",
    "        \"\"\"Return list of employee instances (dictiontary of employee information)\"\"\"\n",
    "        return Employee.employees\n",
    "    \n",
    "# Instantiate five employees\n",
    "bill = Employee('Bill', 35000, 22)\n",
    "sandra = Employee('Sandra', 36000, 23)\n",
    "byron = Employee('Byron', 37000, 24)\n",
    "lewis = Employee('Lewis', 38000, 25) \n",
    "antonin = Employee('Antonin', 39000, 26)\n",
    "\n",
    "\n",
    "# Use list comprehension to get employees with the three highest salaries\n",
    "highest = [employee for employee in sorted(Employee.get_employees(), \n",
    "                                           reverse=True, \n",
    "                                           key=lambda emp: emp['salary'])[0:3]]\n",
    "# Display the information\n",
    "print(highest)"
   ]
  },
  {
   "cell_type": "markdown",
   "id": "c6f1591e",
   "metadata": {},
   "source": [
    "### 2) Create a Company class that holds instances of employees. Then assign five employee instances to an instance of the Company class. Next, add a work() method to both the Company and Employee classes so that when you call the method on the Company class, each Employee instance assigned to the Employee class will work(). Test the Company’s work()."
   ]
  },
  {
   "cell_type": "code",
   "execution_count": 3,
   "id": "409b2d99",
   "metadata": {},
   "outputs": [
    {
     "name": "stdout",
     "output_type": "stream",
     "text": [
      "Tyler B  is working.\n",
      "Tyler  is working.\n",
      "Zach is working.\n",
      "Safal is working.\n",
      "Belle is working.\n"
     ]
    }
   ],
   "source": [
    "# lets create a class first for Employee and Company also we will use initialize and work method\n",
    "class Employee:    \n",
    "    def __init__(self, name, age, salary):\n",
    "        self.name = name\n",
    "        self.age = age\n",
    "        self.salary = salary    \n",
    "    \n",
    "    def work(self):\n",
    "        print(f\"{self.name} is working.\")\n",
    "    \n",
    "class Company:\n",
    "    def __init__(self, employees=[]):\n",
    "        self.employees = employees\n",
    "        \n",
    "    def add_employee(self, employee):\n",
    "        self.employees.append(employee) \n",
    "        \n",
    "    def work(self):        \n",
    "        for employee in self.employees:            \n",
    "            employee.work()\n",
    "        \n",
    "# Lets create 5 employee instance now\n",
    "e1 = Employee(\"Tyler B \", 23, 500)\n",
    "e2 = Employee(\"Tyler \", 21, 600)\n",
    "e3 = Employee(\"Zach\", 20,200)\n",
    "e4 = Employee(\"Safal\", 24,200)\n",
    "e5 = Employee(\"Belle\", 21,300)\n",
    "\n",
    "# Assign the five employee instances we create above to Company class\n",
    "c = Company([e1, e2, e3, e4, e5])\n",
    "\n",
    "# Checking if the company method calls \n",
    "c.work()"
   ]
  },
  {
   "cell_type": "markdown",
   "id": "00a41a8e",
   "metadata": {},
   "source": [
    "### 3) Create ten different employees from a file: read employee data from a file(.txt or .json), then use generator to create a list of ten employees, sort the employee list by their name, use generator to raise every employee’s salary by 5%, then use generator to create a dictionary of the employees where the keys of the dictionary items are from range(10) and print them out. Furthermore, use itertools’s groupby() method to group employees by age group (younger than 20, 21-30, 31-50, 51-65, older than 65)"
   ]
  },
  {
   "cell_type": "code",
   "execution_count": null,
   "id": "2261d3b5",
   "metadata": {},
   "outputs": [],
   "source": [
    "import operator\n",
    "\n",
    "class Employee:    \n",
    "    def __init__(self, name, age, salary):\n",
    "        self.name = name\n",
    "        self.age = age\n",
    "        self.salary = salary\n",
    "        \n",
    "    def __repr__(self):\n",
    "        return 'Employee(%r,%r,%r)' % (self.name, self.age, self.salary)\n",
    "\n",
    "file=open('employees.txt', 'r')\n",
    "\n",
    "employee_list = []\n",
    "\n",
    "j = 0\n",
    "\n",
    "for i in range(10):\n",
    "    \n",
    "    #create employee objects from .txt\n",
    "    i = Employee(file.readline(), file.readline(), file.readline())\n",
    "   \n",
    "    #store created employee objects in a list\n",
    "    employee_list.append(i)\n",
    "    \n",
    "    #sort list by name\n",
    "    sorted_list = sorted(employee_list, key=operator.attrgetter('name'))\n",
    "    \n",
    "    #raise salaries by 5%\n",
    "    employee_list[j].salary=(float(employee_list[j].salary)*1.05)\n",
    "    \n",
    "    j = j + 1\n",
    "    \n",
    "\n",
    "\n",
    "print(sorted_list)\n",
    "\n",
    "    \n",
    "    \n",
    "\n"
   ]
  },
  {
   "cell_type": "markdown",
   "id": "f9effcf2",
   "metadata": {},
   "source": [
    "### 4) Create a EmployeeD class which is a subclass of UserDict and overrides __getitem__ and __setitem__ methods. Then read from your provided file to create a sequence of EmployeeD instances using generator function and print the total salaries."
   ]
  },
  {
   "cell_type": "code",
   "execution_count": null,
   "id": "ee277b15",
   "metadata": {},
   "outputs": [],
   "source": []
  },
  {
   "cell_type": "markdown",
   "id": "6743040c",
   "metadata": {},
   "source": [
    "### 5) Using what we have learned in Unit2 to analyze provided real estate transaction .csv file, you can use SP500 example as reference. Please find the highest and lowest transactions for each category of real estate: condo, residential and multi-family. Please note you are not allowed to use Pandas for this problem."
   ]
  },
  {
   "cell_type": "code",
   "execution_count": null,
   "id": "4bd7abcc",
   "metadata": {},
   "outputs": [],
   "source": []
  }
 ],
 "metadata": {
  "kernelspec": {
   "display_name": "Python 3 (ipykernel)",
   "language": "python",
   "name": "python3"
  },
  "language_info": {
   "codemirror_mode": {
    "name": "ipython",
    "version": 3
   },
   "file_extension": ".py",
   "mimetype": "text/x-python",
   "name": "python",
   "nbconvert_exporter": "python",
   "pygments_lexer": "ipython3",
   "version": "3.9.13"
  }
 },
 "nbformat": 4,
 "nbformat_minor": 5
}
