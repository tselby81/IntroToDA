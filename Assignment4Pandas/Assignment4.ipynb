{
 "cells": [
  {
   "cell_type": "markdown",
   "id": "878625e0",
   "metadata": {},
   "source": [
    "### Group members: Niharika Rasthapuram, Tyler Blankenship, Kao Takahama, Tyler Selby, Zach Seitz, Safal Lamichhane \n",
    "\n",
    "### Due Date: 3/5/23\n",
    "\n",
    "### Using what we have learned in Unit5 of Pandas to analyze SP500.csv file with Series and DataFrame operations. Please find answers to the following questions:\n",
    "    \n",
    "### 1) Generate a brief statistic summary for corresponding data"
   ]
  },
  {
   "cell_type": "code",
   "execution_count": null,
   "id": "d1d98eaf",
   "metadata": {},
   "outputs": [],
   "source": []
  },
  {
   "cell_type": "markdown",
   "id": "b14d9f84",
   "metadata": {},
   "source": [
    "### 2) Sort daily gain/loss for January of 2018 and store the result back to a .csv file"
   ]
  },
  {
   "cell_type": "code",
   "execution_count": null,
   "id": "08420f93",
   "metadata": {},
   "outputs": [],
   "source": []
  },
  {
   "cell_type": "markdown",
   "id": "e7080a36",
   "metadata": {},
   "source": [
    "### 3) Find all of the daily gains reach 20% and above and display them"
   ]
  },
  {
   "cell_type": "code",
   "execution_count": null,
   "id": "9cac764c",
   "metadata": {},
   "outputs": [],
   "source": []
  },
  {
   "cell_type": "markdown",
   "id": "0b77c9cd",
   "metadata": {},
   "source": [
    "### 4) the highest daily gain and its date, the highest daily loss and its date,"
   ]
  },
  {
   "cell_type": "code",
   "execution_count": null,
   "id": "b3e37b5d",
   "metadata": {},
   "outputs": [],
   "source": []
  },
  {
   "cell_type": "markdown",
   "id": "c5f2a229",
   "metadata": {},
   "source": [
    "### (ZS)5) the most daily transaction volume and its date,"
   ]
  },
  {
   "cell_type": "code",
   "execution_count": 44,
   "id": "3c373913",
   "metadata": {},
   "outputs": [
    {
     "name": "stdout",
     "output_type": "stream",
     "text": [
      "The highest daily volume was 11456230000 on 2008-10-10\n"
     ]
    }
   ],
   "source": [
    "import pandas as pd\n",
    "\n",
    "df = pd.read_csv(\"SP500.csv\")\n",
    "\n",
    "max_vol_daily = df[\"Volume\"].idxmax()\n",
    "\n",
    "print(f\"The highest daily volume was {df.iloc[max_vol_daily][-1]} on {df.iloc[max_vol_daily][0]}\")"
   ]
  },
  {
   "cell_type": "markdown",
   "id": "336290e0",
   "metadata": {},
   "source": [
    "### (ZS)6) a monthly report for year 2017-2018, which has monthly average open price, close price, transaction volume and gain/loss, and a query to find all of the months which have certain range of open prices"
   ]
  },
  {
   "cell_type": "code",
   "execution_count": null,
   "id": "55949a9b",
   "metadata": {},
   "outputs": [],
   "source": []
  },
  {
   "cell_type": "markdown",
   "id": "180445e6",
   "metadata": {},
   "source": [
    "### 7) a yearly report which has annual average open price, close price, transaction volume and gain/loss from 1950 to 2018, and the most profitable year,"
   ]
  },
  {
   "cell_type": "code",
   "execution_count": null,
   "id": "feede660",
   "metadata": {},
   "outputs": [],
   "source": []
  },
  {
   "cell_type": "markdown",
   "id": "5147c735",
   "metadata": {},
   "source": [
    "### 8) a every other five year report which has every five year average open price, close price, transaction volume and gain/loss from 1950 to 2018, and the most profitable five year,"
   ]
  },
  {
   "cell_type": "code",
   "execution_count": null,
   "id": "b67eba66",
   "metadata": {},
   "outputs": [],
   "source": []
  },
  {
   "cell_type": "markdown",
   "id": "a9e277b8",
   "metadata": {},
   "source": [
    "### Using what we have learned in Unit5 of Pandas to analyze Sacramentorealestatetransactions.csv file with Series and DataFrame operations. Please find answers to the following questions:\n",
    "\n",
    "### 9) Regroup the data first by city name, then by type"
   ]
  },
  {
   "cell_type": "code",
   "execution_count": null,
   "id": "45068707",
   "metadata": {},
   "outputs": [],
   "source": []
  },
  {
   "cell_type": "markdown",
   "id": "d7cc7c83",
   "metadata": {},
   "source": [
    "### 10) For each city, each type, find the highest, median and lowest transactions"
   ]
  },
  {
   "cell_type": "code",
   "execution_count": null,
   "id": "b73d7ac1",
   "metadata": {},
   "outputs": [],
   "source": []
  },
  {
   "cell_type": "markdown",
   "id": "445f839c",
   "metadata": {},
   "source": [
    "### 11) For each zipcode and each type, find average transactions"
   ]
  },
  {
   "cell_type": "code",
   "execution_count": null,
   "id": "1e534c74",
   "metadata": {},
   "outputs": [],
   "source": []
  }
 ],
 "metadata": {
  "kernelspec": {
   "display_name": "Python 3 (ipykernel)",
   "language": "python",
   "name": "python3"
  },
  "language_info": {
   "codemirror_mode": {
    "name": "ipython",
    "version": 3
   },
   "file_extension": ".py",
   "mimetype": "text/x-python",
   "name": "python",
   "nbconvert_exporter": "python",
   "pygments_lexer": "ipython3",
   "version": "3.8.5"
  }
 },
 "nbformat": 4,
 "nbformat_minor": 5
}
