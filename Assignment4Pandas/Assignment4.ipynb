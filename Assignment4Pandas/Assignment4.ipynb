{
 "cells": [
  {
   "cell_type": "markdown",
   "id": "25b35bdc",
   "metadata": {},
   "source": [
    "### Group members: Niharika Rasthapuram, Tyler Blankenship, Kao Takahama, Tyler Selby, Zach Seitz, Safal Lamichhane \n",
    "\n",
    "### Due Date: 3/5/23\n",
    "\n",
    "### Using what we have learned in Unit5 of Pandas to analyze SP500.csv file with Series and DataFrame operations. Please find answers to the following questions:\n",
    "    \n",
    "### 1) Generate a brief statistic summary for corresponding data"
   ]
  },
  {
   "cell_type": "code",
   "execution_count": null,
   "id": "64e98440",
   "metadata": {},
   "outputs": [],
   "source": []
  },
  {
   "cell_type": "markdown",
   "id": "58a260c8",
   "metadata": {},
   "source": [
    "### 2) Sort daily gain/loss for January of 2018 and store the result back to a .csv file"
   ]
  },
  {
   "cell_type": "code",
   "execution_count": null,
   "id": "1cf93053",
   "metadata": {},
   "outputs": [],
   "source": []
  },
  {
   "cell_type": "markdown",
   "id": "4aa189b1",
   "metadata": {},
   "source": [
    "### 3) Find all of the daily gains reach 20% and above and display them"
   ]
  },
  {
   "cell_type": "code",
   "execution_count": null,
   "id": "ad2b421a",
   "metadata": {},
   "outputs": [],
   "source": []
  },
  {
   "cell_type": "markdown",
   "id": "952d0e66",
   "metadata": {},
   "source": [
    "### 4) the highest daily gain and its date, the highest daily loss and its date,"
   ]
  },
  {
   "cell_type": "code",
   "execution_count": null,
   "id": "e1b4524e",
   "metadata": {},
   "outputs": [],
   "source": []
  },
  {
   "cell_type": "markdown",
   "id": "cdd47475",
   "metadata": {},
   "source": [
    "### 5) the most daily transaction volume and its date,"
   ]
  },
  {
   "cell_type": "code",
   "execution_count": null,
   "id": "e5d7d634",
   "metadata": {},
   "outputs": [],
   "source": []
  },
  {
   "cell_type": "markdown",
   "id": "23a08b03",
   "metadata": {},
   "source": [
    "### 6) a monthly report for year 2017-2018, which has monthly average open price, close price, transaction volume and gain/loss, and a query to find all of the months which have certain range of open prices"
   ]
  },
  {
   "cell_type": "code",
   "execution_count": null,
   "id": "5bd8e64c",
   "metadata": {},
   "outputs": [],
   "source": []
  },
  {
   "cell_type": "markdown",
   "id": "84940b75",
   "metadata": {},
   "source": [
    "### 7) a yearly report which has annual average open price, close price, transaction volume and gain/loss from 1950 to 2018, and the most profitable year,"
   ]
  },
  {
   "cell_type": "code",
   "execution_count": null,
   "id": "517fbeb8",
   "metadata": {},
   "outputs": [],
   "source": []
  },
  {
   "cell_type": "markdown",
   "id": "f10366eb",
   "metadata": {},
   "source": [
    "### 8) a every other five year report which has every five year average open price, close price, transaction volume and gain/loss from 1950 to 2018, and the most profitable five year,"
   ]
  },
  {
   "cell_type": "code",
   "execution_count": null,
   "id": "df45905a",
   "metadata": {},
   "outputs": [],
   "source": []
  },
  {
   "cell_type": "markdown",
   "id": "7eb0b57a",
   "metadata": {},
   "source": [
    "### Using what we have learned in Unit5 of Pandas to analyze Sacramentorealestatetransactions.csv file with Series and DataFrame operations. Please find answers to the following questions:\n",
    "\n",
    "### 9) Regroup the data first by city name, then by type"
   ]
  },
  {
   "cell_type": "code",
   "execution_count": null,
   "id": "34a16cc7",
   "metadata": {},
   "outputs": [],
   "source": []
  },
  {
   "cell_type": "markdown",
   "id": "613b5a43",
   "metadata": {},
   "source": [
    "### 10) For each city, each type, find the highest, median and lowest transactions"
   ]
  },
  {
   "cell_type": "code",
   "execution_count": null,
   "id": "5b006a27",
   "metadata": {},
   "outputs": [],
   "source": []
  },
  {
   "cell_type": "markdown",
   "id": "b389f113",
   "metadata": {},
   "source": [
    "### 11) For each zipcode and each type, find average transactions"
   ]
  },
  {
   "cell_type": "code",
   "execution_count": null,
   "id": "87ab2ffb",
   "metadata": {},
   "outputs": [],
   "source": []
  }
 ],
 "metadata": {
  "kernelspec": {
   "display_name": "Python 3 (ipykernel)",
   "language": "python",
   "name": "python3"
  },
  "language_info": {
   "codemirror_mode": {
    "name": "ipython",
    "version": 3
   },
   "file_extension": ".py",
   "mimetype": "text/x-python",
   "name": "python",
   "nbconvert_exporter": "python",
   "pygments_lexer": "ipython3",
   "version": "3.8.5"
  }
 },
 "nbformat": 4,
 "nbformat_minor": 5
}
