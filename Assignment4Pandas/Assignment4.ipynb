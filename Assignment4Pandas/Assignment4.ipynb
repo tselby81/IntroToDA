{
 "cells": [
  {
   "cell_type": "markdown",
   "id": "878625e0",
   "metadata": {},
   "source": [
    "### Group members: Niharika Rasthapuram, Tyler Blankenship, Kao Takahama, Tyler Selby, Zach Seitz, Safal Lamichhane \n",
    "\n",
    "### Due Date: 3/5/23\n",
    "\n",
    "### Using what we have learned in Unit5 of Pandas to analyze SP500.csv file with Series and DataFrame operations. Please find answers to the following questions:\n",
    "    \n",
    "### 1) Generate a brief statistic summary for corresponding data"
   ]
  },
  {
   "cell_type": "code",
   "execution_count": null,
   "id": "d1d98eaf",
   "metadata": {},
   "outputs": [],
   "source": []
  },
  {
   "cell_type": "markdown",
   "id": "b14d9f84",
   "metadata": {},
   "source": [
    "### 2) Sort daily gain/loss for January of 2018 and store the result back to a .csv file"
   ]
  },
  {
   "cell_type": "code",
   "execution_count": null,
   "id": "08420f93",
   "metadata": {},
   "outputs": [],
   "source": []
  },
  {
   "cell_type": "markdown",
   "id": "e7080a36",
   "metadata": {},
   "source": [
    "### 3) Find all of the daily gains reach 20% and above and display them"
   ]
  },
  {
   "cell_type": "code",
   "execution_count": null,
   "id": "9cac764c",
   "metadata": {},
   "outputs": [],
   "source": []
  },
  {
   "cell_type": "markdown",
   "id": "0b77c9cd",
   "metadata": {},
   "source": [
    "### 4) the highest daily gain and its date, the highest daily loss and its date,"
   ]
  },
  {
   "cell_type": "code",
   "execution_count": null,
   "id": "b3e37b5d",
   "metadata": {},
   "outputs": [],
   "source": []
  },
  {
   "cell_type": "markdown",
   "id": "c5f2a229",
   "metadata": {},
   "source": [
    "### (ZS)5) the most daily transaction volume and its date,"
   ]
  },
  {
   "cell_type": "code",
   "execution_count": null,
   "id": "3c373913",
   "metadata": {},
   "outputs": [],
   "source": [
    "import pandas as pd\n",
    "\n",
    "df = pd.read_csv('SP500.csv')\n",
    "\n",
    "max_vol_daily = df['Volume'].idxmax()\n",
    "\n",
    "print(f\"The highest daily volume was {df.iloc[max_vol_daily][-1]} on {df.iloc[max_vol_daily][0]}\")"
   ]
  },
  {
   "cell_type": "markdown",
   "id": "336290e0",
   "metadata": {},
   "source": [
    "### (ZS)6) a monthly report for year 2017-2018, which has monthly average open price, close price, transaction volume and gain/loss, and a query to find all of the months which have certain range of open prices"
   ]
  },
  {
   "cell_type": "code",
   "execution_count": 162,
   "id": "55949a9b",
   "metadata": {},
   "outputs": [
    {
     "name": "stdout",
     "output_type": "stream",
     "text": [
      "Monthly report:\n",
      "            Avg Monthly Open  Avg Monthly Close  Avg Monthly Volume  \\\n",
      "Date                                                                  \n",
      "2017-01-31       2273.531970        2275.115979        3.524159e+09   \n",
      "2017-02-28       2325.585282        2329.910542        3.640127e+09   \n",
      "2017-03-31       2366.868705        2366.822170        3.545555e+09   \n",
      "2017-04-30       2360.150005        2359.309455        3.435035e+09   \n",
      "2017-05-31       2394.470004        2395.345881        3.618508e+09   \n",
      "2017-06-30       2434.683605        2433.985451        3.681931e+09   \n",
      "2017-07-31       2453.039490        2454.102502        3.158470e+09   \n",
      "2017-08-31       2456.749968        2456.223070        3.070262e+09   \n",
      "2017-09-30       2491.332495        2492.841040        3.316899e+09   \n",
      "2017-10-31       2555.807273        2556.997270        3.221435e+09   \n",
      "2017-11-30       2590.306164        2593.605736        3.484441e+09   \n",
      "2017-12-31       2666.069995        2664.340527        3.262560e+09   \n",
      "2018-01-31       2785.686651        2789.803816        3.660006e+09   \n",
      "2018-02-28       2710.269467        2705.155248        4.188390e+09   \n",
      "2018-03-31       2707.860003        2702.773821        3.635705e+09   \n",
      "2018-04-30       2656.397986        2653.903967        3.295703e+09   \n",
      "\n",
      "            Avg Monthly Gain/Loss  \n",
      "Date                               \n",
      "2017-01-31               1.584009  \n",
      "2017-02-28               4.325260  \n",
      "2017-03-31              -0.046535  \n",
      "2017-04-30              -0.840550  \n",
      "2017-05-31               0.875877  \n",
      "2017-06-30              -0.698153  \n",
      "2017-07-31               1.063013  \n",
      "2017-08-31              -0.526898  \n",
      "2017-09-30               1.508545  \n",
      "2017-10-31               1.189997  \n",
      "2017-11-30               3.299572  \n",
      "2017-12-31              -1.729468  \n",
      "2018-01-31               4.117164  \n",
      "2018-02-28              -5.114219  \n",
      "2018-03-31              -5.086182  \n",
      "2018-04-30              -2.494018  \n",
      "\n",
      "\n",
      "The following months have an avg open price between 1500 and 2000:\n",
      "\n",
      "2000-03-31   2000-04-30   2000-05-31   2000-06-30   2000-07-31   2000-08-31   2000-09-30   2000-10-31   2000-11-30   2000-12-31   2001-01-31   2001-02-28   2001-03-31   2001-04-30   2001-05-31   2001-06-30   2001-07-31   2001-08-31   2001-09-30   2001-10-31   2001-11-30   2001-12-31   2002-01-31   2002-02-28   2002-03-31   2002-04-30   2002-05-31   2002-06-30   2002-07-31   2002-08-31   2002-09-30   2002-10-31   2002-11-30   2002-12-31   2003-01-31   2003-02-28   2003-03-31   2003-04-30   2003-05-31   2003-06-30   2003-07-31   2003-08-31   2003-09-30   2003-10-31   2003-11-30   2003-12-31   2004-01-31   2004-02-29   2004-03-31   2004-04-30   2004-05-31   2004-06-30   2004-07-31   2004-08-31   2004-09-30   2004-10-31   2004-11-30   2004-12-31   2005-01-31   2005-02-28   2005-03-31   2005-04-30   2005-05-31   2005-06-30   2005-07-31   2005-08-31   2005-09-30   2005-10-31   2005-11-30   2005-12-31   2006-01-31   2006-02-28   2006-03-31   2006-04-30   2006-05-31   2006-06-30   2006-07-31   2006-08-31   2006-09-30   2006-10-31   2006-11-30   2006-12-31   2007-01-31   2007-02-28   2007-03-31   2007-04-30   2007-05-31   2007-06-30   2007-07-31   2007-08-31   2007-09-30   2007-10-31   2007-11-30   2007-12-31   2008-01-31   2008-02-29   2008-03-31   2008-04-30   2008-05-31   2008-06-30   2008-07-31   2008-08-31   2008-09-30   2008-10-31   2008-11-30   2008-12-31   2009-01-31   2009-02-28   2009-03-31   2009-04-30   2009-05-31   2009-06-30   2009-07-31   2009-08-31   2009-09-30   2009-10-31   2009-11-30   2009-12-31   2010-01-31   2010-02-28   2010-03-31   2010-04-30   2010-05-31   2010-06-30   2010-07-31   2010-08-31   2010-09-30   2010-10-31   2010-11-30   2010-12-31   2011-01-31   2011-02-28   2011-03-31   2011-04-30   2011-05-31   2011-06-30   2011-07-31   2011-08-31   2011-09-30   2011-10-31   2011-11-30   2011-12-31   2012-01-31   2012-02-29   2012-03-31   2012-04-30   2012-05-31   2012-06-30   2012-07-31   2012-08-31   2012-09-30   2012-10-31   2012-11-30   2012-12-31   2013-01-31   2013-02-28   2013-03-31   2013-04-30   2013-05-31   2013-06-30   2013-07-31   2013-08-31   2013-09-30   2013-10-31   2013-11-30   2013-12-31   2014-01-31   2014-02-28   2014-03-31   2014-04-30   2014-05-31   2014-06-30   2014-07-31   2014-08-31   2014-09-30   2014-10-31   2014-11-30   2014-12-31   2015-01-31   2015-02-28   2015-03-31   2015-04-30   2015-05-31   2015-06-30   2015-07-31   2015-08-31   2015-09-30   2015-10-31   2015-11-30   2015-12-31   2016-01-31   2016-02-29   2016-03-31   "
     ]
    }
   ],
   "source": [
    "def group_by_month(csv, year_start, year_end):\n",
    "    \"\"\"Group CSV records by month, beginning at year_start and ending at year_end.\n",
    "    CSV must include a date column.\n",
    "    Year_start and year_end can be integers or strings.\n",
    "    \"\"\"\n",
    "    df = pd.read_csv(csv)\n",
    "    \n",
    "    # Cast to ints and add 1 to year_end (for indexing)\n",
    "    if type(year_start) != int or type(year_end) != int:\n",
    "        year_start = int(year_start)\n",
    "        year_end - int(year_end) + 1\n",
    "    \n",
    "    # Convert date string into datatime objects and set as index (for grouping)\n",
    "    df[\"Date\"] = pd.to_datetime(df[\"Date\"])\n",
    "    df.set_index(\"Date\", inplace=True)\n",
    "    \n",
    "    # Get data for specified date range\n",
    "    years = df.loc[str(year_start): str(year_end + 1)]\n",
    "    \n",
    "    # Group by month\n",
    "    months = years.groupby(pd.Grouper(freq=\"M\"))\n",
    "    \n",
    "    return months\n",
    "\n",
    "def query(csv, open_start, open_end, year_start=1950, year_end=2023):\n",
    "    \"\"\"Query the csv for the all months in which the avg opening price\n",
    "    is between open_start (lower bound) and open_end (upper bound).\n",
    "    \"\"\"\n",
    "    df = pd.read_csv(csv)\n",
    "    \n",
    "    # Query for results between specified open prices\n",
    "    df.query(f'Open > {open_start} and  Open < {open_end}', inplace=True)\n",
    "    # Convert date string into datatime objects and set as index (for grouping)\n",
    "    df[\"Date\"] = pd.to_datetime(df[\"Date\"])\n",
    "    df.set_index(\"Date\", inplace=True)\n",
    "    \n",
    "    # Group results by month\n",
    "    months = df.groupby(pd.Grouper(freq=\"M\"))\n",
    "    return months\n",
    "#     return [key.date() for key, item in months]\n",
    "\n",
    "\n",
    "#### Get average monthly values ####\n",
    "months = group_by_month(\"SP500.csv\", 2017, 2018)\n",
    "\n",
    "data = {\"Avg Monthly Open\": months[\"Open\"].mean(),\n",
    "        \"Avg Monthly Close\": months[\"Close\"].mean(),\n",
    "        \"Avg Monthly Volume\": months[\"Volume\"].mean(),\n",
    "        \"Avg Monthly Gain/Loss\": (months.apply(lambda x: x['Adj Close'] - x['Open'])).groupby('Date').mean()\n",
    "       }\n",
    "\n",
    "# Amalgamate data, print\n",
    "report = pd.concat(data, axis=1)\n",
    "print(f\"Monthly report:\\n{report}\\n\\n\")\n",
    "\n",
    "\n",
    "#### Query for open prices in range 1500-2000 ####\n",
    "\n",
    "print(\"The following months have an average open price between 1500 and 2000:\\n\")\n",
    "for key, item in results:\n",
    "    print(key.date(), end=\"   \")\n"
   ]
  },
  {
   "cell_type": "markdown",
   "id": "180445e6",
   "metadata": {},
   "source": [
    "### 7) a yearly report which has annual average open price, close price, transaction volume and gain/loss from 1950 to 2018, and the most profitable year,"
   ]
  },
  {
   "cell_type": "code",
   "execution_count": null,
   "id": "feede660",
   "metadata": {},
   "outputs": [],
   "source": []
  },
  {
   "cell_type": "markdown",
   "id": "5147c735",
   "metadata": {},
   "source": [
    "### 8) a every other five year report which has every five year average open price, close price, transaction volume and gain/loss from 1950 to 2018, and the most profitable five year,"
   ]
  },
  {
   "cell_type": "code",
   "execution_count": null,
   "id": "b67eba66",
   "metadata": {},
   "outputs": [],
   "source": []
  },
  {
   "cell_type": "markdown",
   "id": "a9e277b8",
   "metadata": {},
   "source": [
    "### Using what we have learned in Unit5 of Pandas to analyze Sacramentorealestatetransactions.csv file with Series and DataFrame operations. Please find answers to the following questions:\n",
    "\n",
    "### 9) Regroup the data first by city name, then by type"
   ]
  },
  {
   "cell_type": "code",
   "execution_count": null,
   "id": "45068707",
   "metadata": {},
   "outputs": [],
   "source": []
  },
  {
   "cell_type": "markdown",
   "id": "d7cc7c83",
   "metadata": {},
   "source": [
    "### 10) For each city, each type, find the highest, median and lowest transactions"
   ]
  },
  {
   "cell_type": "code",
   "execution_count": null,
   "id": "b73d7ac1",
   "metadata": {},
   "outputs": [],
   "source": []
  },
  {
   "cell_type": "markdown",
   "id": "445f839c",
   "metadata": {},
   "source": [
    "### 11) For each zipcode and each type, find average transactions"
   ]
  },
  {
   "cell_type": "code",
   "execution_count": null,
   "id": "1e534c74",
   "metadata": {},
   "outputs": [],
   "source": []
  }
 ],
 "metadata": {
  "kernelspec": {
   "display_name": "Python 3 (ipykernel)",
   "language": "python",
   "name": "python3"
  },
  "language_info": {
   "codemirror_mode": {
    "name": "ipython",
    "version": 3
   },
   "file_extension": ".py",
   "mimetype": "text/x-python",
   "name": "python",
   "nbconvert_exporter": "python",
   "pygments_lexer": "ipython3",
   "version": "3.8.5"
  }
 },
 "nbformat": 4,
 "nbformat_minor": 5
}
