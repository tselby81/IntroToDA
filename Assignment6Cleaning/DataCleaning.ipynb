{
 "cells": [
  {
   "cell_type": "markdown",
   "id": "d51237b4",
   "metadata": {},
   "source": [
    "### Group members: Niharika Rasthapuram, Tyler Blankenship, Kao Takahama, Tyler Selby, Zach Seitz, Safal Lamichhane \n",
    "\n",
    "### Due Date: 3/26/23"
   ]
  },
  {
   "cell_type": "markdown",
   "id": "ebacd0a7",
   "metadata": {},
   "source": [
    "### BL-Flicker-Images-Book.csv file"
   ]
  },
  {
   "cell_type": "markdown",
   "id": "6303c5dd",
   "metadata": {},
   "source": [
    "### 1) For the Title column, only keep the title part, remove all of the other parts. If the title is inside a bracket, remove the bracket which encloses the title. If there are multiple …, only keep the words before the first one. If there are multiple periods (.), only keep words before the first one.\n",
    "\n",
    "The following shows the sample results after the cleaning for title column:\n",
    "Walter Forbes. [A novel.] By A. A ---> Walter Forbes.<br>\n",
    "Love the Avenger. By the author of â€œAll for Greed.â€• [The dedication signed: A. A. A., i.e.\n",
    "Marie Pauline Rose, Baroness Blaze de Bury.] ---> Love the Avenger. <br>\n",
    "[The World in which I live, and my place in it. By E. S. A. [i.e. Letitia Willgoss Stone.] Edited by ...\n",
    "J. H. Broome.] ---> The World in which I live, and my place in it.<br>\n",
    "A Satyr against Vertue. (A poem: supposed to be spoken by a Town-Hector. [By John Oldham.\n",
    "The preface signed: T. A.]) ---> A Satyr against Vertue.<br>\n",
    "An Account of the many and great Loans, Benefactions and Charities, belonging to the City of\n",
    "Coventry ... A new edition. [The dedication signed: AB, CD, EF, GH, &c. By Edward Jackson and\n",
    "Samuel Carte.] ---> An Account of the many and great Loans, Benefactions and Charities,\n",
    "belonging to the City of Coventry ...<br>\n"
   ]
  },
  {
   "cell_type": "code",
   "execution_count": null,
   "id": "9004e208",
   "metadata": {},
   "outputs": [],
   "source": []
  },
  {
   "cell_type": "markdown",
   "id": "60cdb3f2",
   "metadata": {},
   "source": [
    "### 2) For the Author and Contributors columns, only keep the first author, remove all of the other parts. If the author or the contributor has other auxiliary information, remove them. title is inside a bracket, remove the bracket which encloses the title. If there are multiple …, only keep the words before the first one. If there are multiple periods (.), only keep words before the first one. For all of the names, they should only have the first letter of the first, middle and last names be capital letter, all of the remaining letters should be small case. \n",
    "\n",
    "The following shows the sample results after the cleaning for title column:<br>\n",
    "Author<br>\n",
    "A., J.|A., J. -> A., J. <br>\n",
    "AAR, Ermanno - pseud. [i.e. Luigi Giuseppe Oronzo Mariano Raffaele Francesco Fortunato Felice\n",
    "de Simone.] -> Aar, Ermanno <br>\n",
    "Contributors:<br>\n",
    "CARTE, Samuel.|JACKSON, Edward - Rector of Southam, and CARTE (Samuel) -> Carte, Samuel. <br>\n",
    "After cleaning the above columns, save the cleaned data back into a new .csv file."
   ]
  },
  {
   "cell_type": "code",
   "execution_count": null,
   "id": "237a5e1c",
   "metadata": {},
   "outputs": [],
   "source": []
  },
  {
   "cell_type": "markdown",
   "id": "02dba05a",
   "metadata": {},
   "source": [
    "### olympics.csv file\n",
    "\n",
    "### 3) Drop all of the countries which don’t have gold medals, and save the cleaned one back into a new .csv file."
   ]
  },
  {
   "cell_type": "code",
   "execution_count": null,
   "id": "5d69fc09",
   "metadata": {},
   "outputs": [],
   "source": []
  },
  {
   "cell_type": "markdown",
   "id": "9f805b21",
   "metadata": {},
   "source": [
    "### 4) Output the top five gold medal countries.\n"
   ]
  },
  {
   "cell_type": "code",
   "execution_count": null,
   "id": "8db9047d",
   "metadata": {},
   "outputs": [],
   "source": []
  },
  {
   "cell_type": "markdown",
   "id": "d0b5f0bd",
   "metadata": {},
   "source": [
    "### 5) Output the countries that have all three kinds of medals for both summer and winter games. You may use previous unit learned concepts on multi-level indexing, pivoting, stacking to rearrange the original .csv file to convert summer and winter as secondary level index within the country index, and then generate a new .csv file which will have country as the primary index, then summer and winter as secondary index, and columns of gold, silver and bronze medals."
   ]
  },
  {
   "cell_type": "code",
   "execution_count": null,
   "id": "0564c2d0",
   "metadata": {},
   "outputs": [],
   "source": []
  }
 ],
 "metadata": {
  "kernelspec": {
   "display_name": "Python 3 (ipykernel)",
   "language": "python",
   "name": "python3"
  },
  "language_info": {
   "codemirror_mode": {
    "name": "ipython",
    "version": 3
   },
   "file_extension": ".py",
   "mimetype": "text/x-python",
   "name": "python",
   "nbconvert_exporter": "python",
   "pygments_lexer": "ipython3",
   "version": "3.8.5"
  }
 },
 "nbformat": 4,
 "nbformat_minor": 5
}
