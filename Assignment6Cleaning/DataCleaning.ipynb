{
  "cells": [
    {
      "cell_type": "markdown",
      "id": "9f4c8909",
      "metadata": {
        "id": "9f4c8909"
      },
      "source": [
        "### Group members: Niharika Rasthapuram, Tyler Blankenship, Kao Takahama, Tyler Selby, Zach Seitz, Safal Lamichhane \n",
        "\n",
        "### Due Date: 3/26/23"
      ]
    },
    {
      "cell_type": "markdown",
      "id": "cd8a5b72",
      "metadata": {
        "id": "cd8a5b72"
      },
      "source": [
        "### BL-Flicker-Images-Book.csv file"
      ]
    },
    {
      "cell_type": "markdown",
      "id": "4abfeb89",
      "metadata": {
        "id": "4abfeb89"
      },
      "source": [
        "### 1) For the Title column, only keep the title part, remove all of the other parts. If the title is inside a bracket, remove the bracket which encloses the title. If there are multiple …, only keep the words before the first one. If there are multiple periods (.), only keep words before the first one.\n",
        "\n",
        "The following shows the sample results after the cleaning for title column:\n",
        "Walter Forbes. [A novel.] By A. A ---> Walter Forbes.<br>\n",
        "Love the Avenger. By the author of â€œAll for Greed.â€• [The dedication signed: A. A. A., i.e.\n",
        "Marie Pauline Rose, Baroness Blaze de Bury.] ---> Love the Avenger. <br>\n",
        "[The World in which I live, and my place in it. By E. S. A. [i.e. Letitia Willgoss Stone.] Edited by ...\n",
        "J. H. Broome.] ---> The World in which I live, and my place in it.<br>\n",
        "A Satyr against Vertue. (A poem: supposed to be spoken by a Town-Hector. [By John Oldham.\n",
        "The preface signed: T. A.]) ---> A Satyr against Vertue.<br>\n",
        "An Account of the many and great Loans, Benefactions and Charities, belonging to the City of\n",
        "Coventry ... A new edition. [The dedication signed: AB, CD, EF, GH, &c. By Edward Jackson and\n",
        "Samuel Carte.] ---> An Account of the many and great Loans, Benefactions and Charities,\n",
        "belonging to the City of Coventry ...<br>\n"
      ]
    },
    {
      "cell_type": "code",
      "execution_count": 122,
      "id": "59828f29",
      "metadata": {
        "id": "59828f29",
        "outputId": "4143de88-61b2-4a4f-f6a5-e8555ccf1147"
      },
      "outputs": [
        {
          "data": {
            "text/html": [
              "<div>\n",
              "<style scoped>\n",
              "    .dataframe tbody tr th:only-of-type {\n",
              "        vertical-align: middle;\n",
              "    }\n",
              "\n",
              "    .dataframe tbody tr th {\n",
              "        vertical-align: top;\n",
              "    }\n",
              "\n",
              "    .dataframe thead th {\n",
              "        text-align: right;\n",
              "    }\n",
              "</style>\n",
              "<table border=\"1\" class=\"dataframe\">\n",
              "  <thead>\n",
              "    <tr style=\"text-align: right;\">\n",
              "      <th></th>\n",
              "      <th>0</th>\n",
              "    </tr>\n",
              "  </thead>\n",
              "  <tbody>\n",
              "    <tr>\n",
              "      <th>0</th>\n",
              "      <td>Walter Forbes</td>\n",
              "    </tr>\n",
              "    <tr>\n",
              "      <th>1</th>\n",
              "      <td>All for Greed</td>\n",
              "    </tr>\n",
              "    <tr>\n",
              "      <th>2</th>\n",
              "      <td>Love the Avenger</td>\n",
              "    </tr>\n",
              "    <tr>\n",
              "      <th>3</th>\n",
              "      <td>Welsh Sketches, chiefly ecclesiastical, to the...</td>\n",
              "    </tr>\n",
              "    <tr>\n",
              "      <th>4</th>\n",
              "      <td></td>\n",
              "    </tr>\n",
              "    <tr>\n",
              "      <th>...</th>\n",
              "      <td>...</td>\n",
              "    </tr>\n",
              "    <tr>\n",
              "      <th>8282</th>\n",
              "      <td>The Parochial History of Cornwall, founded on,</td>\n",
              "    </tr>\n",
              "    <tr>\n",
              "      <th>8283</th>\n",
              "      <td>The History and Gazetteer of the County of Derby</td>\n",
              "    </tr>\n",
              "    <tr>\n",
              "      <th>8284</th>\n",
              "      <td>Magna Britannia</td>\n",
              "    </tr>\n",
              "    <tr>\n",
              "      <th>8285</th>\n",
              "      <td>An historical, topographical and descriptive v...</td>\n",
              "    </tr>\n",
              "    <tr>\n",
              "      <th>8286</th>\n",
              "      <td>Collectanea Topographica et Genealogica</td>\n",
              "    </tr>\n",
              "  </tbody>\n",
              "</table>\n",
              "<p>8287 rows × 1 columns</p>\n",
              "</div>"
            ],
            "text/plain": [
              "                                                      0\n",
              "0                                         Walter Forbes\n",
              "1                                         All for Greed\n",
              "2                                      Love the Avenger\n",
              "3     Welsh Sketches, chiefly ecclesiastical, to the...\n",
              "4                                                      \n",
              "...                                                 ...\n",
              "8282    The Parochial History of Cornwall, founded on, \n",
              "8283   The History and Gazetteer of the County of Derby\n",
              "8284                                    Magna Britannia\n",
              "8285  An historical, topographical and descriptive v...\n",
              "8286            Collectanea Topographica et Genealogica\n",
              "\n",
              "[8287 rows x 1 columns]"
            ]
          },
          "execution_count": 122,
          "metadata": {},
          "output_type": "execute_result"
        }
      ],
      "source": [
        "import pandas as pd\n",
        "\n",
        "df = pd.read_csv('BL-Flickr-Images-Book.csv')\n",
        "\n",
        "titles = df['Title']\n",
        "\n",
        "# Create a capture group (the outside parentheses) to\n",
        "# Match as many alphanumeric characters as possible (\\w*) \n",
        "# Followed by any amount of whitespace (\\s*)\n",
        "# Followed by as many alphanumeric characters as possible (\\w*) \n",
        "# Followed by as many commas as possible (,*)\n",
        "# This matches the entire title, indcluding spaces and commas, \n",
        "# but without including any other punctuation or any words that follow punctuation\n",
        "pattern = r'([\\w*\\s*\\w*,*]*)'\n",
        "\n",
        "titles = titles.str.extract(pattern)\n",
        "titles"
      ]
    },
    {
      "cell_type": "markdown",
      "id": "ad98ae71",
      "metadata": {
        "id": "ad98ae71"
      },
      "source": [
        "### 2) For the Author and Contributors columns, only keep the first author, remove all of the other parts. If the author or the contributor has other auxiliary information, remove them. title is inside a bracket, remove the bracket which encloses the title. If there are multiple …, only keep the words before the first one. If there are multiple periods (.), only keep words before the first one. For all of the names, they should only have the first letter of the first, middle and last names be capital letter, all of the remaining letters should be small case. \n",
        "\n",
        "The following shows the sample results after the cleaning for title column:<br>\n",
        "Author<br>\n",
        "A., J.|A., J. -> A., J. <br>\n",
        "AAR, Ermanno - pseud. [i.e. Luigi Giuseppe Oronzo Mariano Raffaele Francesco Fortunato Felice\n",
        "de Simone.] -> Aar, Ermanno <br>\n",
        "Contributors:<br>\n",
        "CARTE, Samuel.|JACKSON, Edward - Rector of Southam, and CARTE (Samuel) -> Carte, Samuel. <br>\n",
        "After cleaning the above columns, save the cleaned data back into a new .csv file."
      ]
    },
    {
      "cell_type": "code",
      "execution_count": 123,
      "id": "02f9debb",
      "metadata": {
        "id": "02f9debb"
      },
      "outputs": [
        {
          "name": "stderr",
          "output_type": "stream",
          "text": [
            "C:\\Users\\Tyler\\AppData\\Local\\Temp\\ipykernel_7608\\448152758.py:2: FutureWarning: The default value of regex will change from True to False in a future version.\n",
            "  df['Author'] = df['Author'].str.replace(r'-.*', '')\n",
            "C:\\Users\\Tyler\\AppData\\Local\\Temp\\ipykernel_7608\\448152758.py:3: FutureWarning: The default value of regex will change from True to False in a future version.\n",
            "  df['Contributors'] = df['Contributors'].str.replace(r'-.*', '')\n",
            "C:\\Users\\Tyler\\AppData\\Local\\Temp\\ipykernel_7608\\448152758.py:6: FutureWarning: The default value of regex will change from True to False in a future version.\n",
            "  df['Author'] = df['Author'].str.replace(r'\\|.*', '')\n",
            "C:\\Users\\Tyler\\AppData\\Local\\Temp\\ipykernel_7608\\448152758.py:7: FutureWarning: The default value of regex will change from True to False in a future version.\n",
            "  df['Contributors'] = df['Contributors'].str.replace(r'\\|.*', '')\n"
          ]
        },
        {
          "data": {
            "text/plain": [
              "(0                                    A. A.\n",
              " 1                                A., A. A.\n",
              " 2                                A., A. A.\n",
              " 3                                A., E. S.\n",
              " 4                                A., E. S.\n",
              "                        ...                \n",
              " 8282    Giddy, Afterwards Gilbert, Davies.\n",
              " 8283                      Glover, Stephen \n",
              " 8284                       Lysons, Daniel \n",
              " 8285                 Mackenzie, E. (Eneas)\n",
              " 8286                                   NaN\n",
              " Name: Author, Length: 8287, dtype: object,\n",
              " 0                          Forbes, Walter.\n",
              " 1       Blaze De Bury, Marie Pauline Rose \n",
              " 2       Blaze De Bury, Marie Pauline Rose \n",
              " 3              Appleyard, Ernest Silvanus.\n",
              " 4                      Broome, John Henry.\n",
              "                        ...                \n",
              " 8282                  Boase, Henry Samuel.\n",
              " 8283                        Noble, Thomas.\n",
              " 8284                     Gregson, Matthew.\n",
              " 8285                             Ross, M. \n",
              " 8286                   Bandinel, Bulkeley.\n",
              " Name: Contributors, Length: 8287, dtype: object)"
            ]
          },
          "execution_count": 123,
          "metadata": {},
          "output_type": "execute_result"
        }
      ],
      "source": [
        "# remove everything after '-'\n",
        "df['Author'] = df['Author'].str.replace(r'-.*', '')\n",
        "df['Contributors'] = df['Contributors'].str.replace(r'-.*', '')\n",
        "\n",
        "# remove everything after '|'\n",
        "df['Author'] = df['Author'].str.replace(r'\\|.*', '')\n",
        "df['Contributors'] = df['Contributors'].str.replace(r'\\|.*', '')\n",
        "\n",
        "# capitalize the first letter of the names\n",
        "df['Author'] = df['Author'].str.title()\n",
        "df['Contributors'] = df['Contributors'].str.title()\n",
        "\n",
        "# print each column to check cleaning\n",
        "df['Author'], df['Contributors']\n",
        "\n",
        "# save \n",
        "df.to_csv('clean_BL-Flickr-Images-Book.csv')"
      ]
    },
    {
      "cell_type": "markdown",
      "id": "c95422a2",
      "metadata": {
        "id": "c95422a2"
      },
      "source": [
        "### olympics.csv file\n",
        "\n",
        "### 3) Drop all of the countries which don’t have gold medals, and save the cleaned one back into a new .csv file."
      ]
    },
    {
      "cell_type": "code",
      "execution_count": 124,
      "id": "5ff69aee",
      "metadata": {
        "id": "5ff69aee"
      },
      "outputs": [],
      "source": [
        "import pandas as pd\n",
        "\n",
        "# Load the Olympics data\n",
        "df = pd.read_csv('olympics.csv', index_col=0, skiprows=1)\n",
        "\n",
        "# Rename the columns to remove special characters and spaces\n",
        "\n",
        "new_cols = ['Summer','Summer_Gold', 'Summer_Silver', 'Summer_Bronze', 'Summer_Total',\n",
        "            'Winter','Winter_Gold', 'Winter_Silver', 'Winter_Bronze', 'Winter_Total',\n",
        "            'Games','Games_Gold', 'Games_Silver', 'Games_Bronze', 'Games_Total']\n",
        "df.columns = new_cols\n",
        "\n",
        "\n",
        "# Drop all rows where the country doesnot have a single gold medals\n",
        "df = df.drop(df[(df['Summer_Gold'] == 0) & (df['Winter_Gold'] == 0)].index)\n",
        "\n",
        "# Save cleaned data to new csv file\n",
        "df.to_csv('olympics_gold_only.csv')"
      ]
    },
    {
      "cell_type": "markdown",
      "id": "3e6ae012",
      "metadata": {
        "id": "3e6ae012"
      },
      "source": [
        "### 4) Output the top five gold medal countries.\n"
      ]
    },
    {
      "cell_type": "code",
      "execution_count": 125,
      "id": "c6f77cea",
      "metadata": {
        "id": "c6f77cea"
      },
      "outputs": [
        {
          "name": "stdout",
          "output_type": "stream",
          "text": [
            "                                     Summer  Summer_Gold  Summer_Silver  \\\n",
            "Totals                                   27         4809           4775   \n",
            "United States (USA) [P] [Q] [R] [Z]      26          976            757   \n",
            "Soviet Union (URS) [URS]                  9          395            319   \n",
            "Germany (GER) [GER] [Z]                  15          174            182   \n",
            "Great Britain (GBR) [GBR] [Z]            27          236            272   \n",
            "\n",
            "                                     Summer_Bronze  Summer_Total  Winter  \\\n",
            "Totals                                        5130         14714      22   \n",
            "United States (USA) [P] [Q] [R] [Z]            666          2399      22   \n",
            "Soviet Union (URS) [URS]                       296          1010       9   \n",
            "Germany (GER) [GER] [Z]                        217           573      11   \n",
            "Great Britain (GBR) [GBR] [Z]                  272           780      22   \n",
            "\n",
            "                                     Winter_Gold  Winter_Silver  \\\n",
            "Totals                                       959            958   \n",
            "United States (USA) [P] [Q] [R] [Z]           96            102   \n",
            "Soviet Union (URS) [URS]                      78             57   \n",
            "Germany (GER) [GER] [Z]                       78             78   \n",
            "Great Britain (GBR) [GBR] [Z]                 10              4   \n",
            "\n",
            "                                     Winter_Bronze  Winter_Total  Games  \\\n",
            "Totals                                         948          2865     49   \n",
            "United States (USA) [P] [Q] [R] [Z]             84           282     48   \n",
            "Soviet Union (URS) [URS]                        59           194     18   \n",
            "Germany (GER) [GER] [Z]                         53           209     26   \n",
            "Great Britain (GBR) [GBR] [Z]                   12            26     49   \n",
            "\n",
            "                                     Games_Gold  Games_Silver  Games_Bronze  \\\n",
            "Totals                                     5768          5733          6078   \n",
            "United States (USA) [P] [Q] [R] [Z]        1072           859           750   \n",
            "Soviet Union (URS) [URS]                    473           376           355   \n",
            "Germany (GER) [GER] [Z]                     252           260           270   \n",
            "Great Britain (GBR) [GBR] [Z]               246           276           284   \n",
            "\n",
            "                                     Games_Total  \n",
            "Totals                                     17579  \n",
            "United States (USA) [P] [Q] [R] [Z]         2681  \n",
            "Soviet Union (URS) [URS]                    1204  \n",
            "Germany (GER) [GER] [Z]                      782  \n",
            "Great Britain (GBR) [GBR] [Z]                806  \n"
          ]
        }
      ],
      "source": [
        "\n",
        "# lets load previous generates .csv file\n",
        "df = pd.read_csv('olympics_gold_only.csv', index_col=0)\n",
        "\n",
        "# Sort by 'Combined Gold' column which is Games_Gold in descending order and get top 5 rows\n",
        "top_5_gold = df.sort_values('Games_Gold', ascending=False).head(5)\n",
        "\n",
        "# Output top 5 gold medal countries\n",
        "print(top_5_gold)"
      ]
    },
    {
      "cell_type": "markdown",
      "id": "8c2c6102",
      "metadata": {
        "id": "8c2c6102"
      },
      "source": [
        "### 5) Output the countries that have all three kinds of medals for both summer and winter games. You may use previous unit learned concepts on multi-level indexing, pivoting, stacking to rearrange the original .csv file to convert summer and winter as secondary level index within the country index, and then generate a new .csv file which will have country as the primary index, then summer and winter as secondary index, and columns of gold, silver and bronze medals."
      ]
    },
    {
      "cell_type": "code",
      "execution_count": 126,
      "id": "78c824ea",
      "metadata": {
        "id": "78c824ea"
      },
      "outputs": [
        {
          "name": "stdout",
          "output_type": "stream",
          "text": [
            "['Australia (AUS) [AUS] [Z]', 'Austria (AUT)', 'Belarus (BLR)', 'Belgium (BEL)', 'Bulgaria (BUL) [H]', 'Canada (CAN)', 'China (CHN) [CHN]', 'Croatia (CRO)', 'Czech Republic (CZE) [CZE]', 'Czechoslovakia (TCH) [TCH]', 'Estonia (EST)', 'Finland (FIN)', 'France (FRA) [O] [P] [Z]', 'Germany (GER) [GER] [Z]', 'United Team of Germany (EUA) [EUA]', 'East Germany (GDR) [GDR]', 'West Germany (FRG) [FRG]', 'Great Britain (GBR) [GBR] [Z]', 'Hungary (HUN)', 'Italy (ITA) [M] [S]', 'Japan (JPN)', 'Kazakhstan (KAZ)', 'North Korea (PRK)', 'South Korea (KOR)', 'Latvia (LAT)', 'Netherlands (NED) [Z]', 'Norway (NOR) [Q]', 'Poland (POL)', 'Russia (RUS) [RUS]', 'Soviet Union (URS) [URS]', 'Unified Team (EUN) [EUN]', 'Slovakia (SVK) [SVK]', 'Slovenia (SLO)', 'Sweden (SWE) [Z]', 'Switzerland (SUI)', 'Ukraine (UKR)', 'United States (USA) [P] [Q] [R] [Z]', 'Yugoslavia (YUG) [YUG]', 'Totals']\n"
          ]
        }
      ],
      "source": [
        "# Load formatted Csv file\n",
        "df = pd.read_csv('olympics_gold_only.csv', index_col=0)\n",
        "\n",
        "# Filter the dataframe to include only the countries that have all three types of medals in both summer and winter games\n",
        "df_filtered = df[(df['Summer_Total'] > 0) & (df['Winter_Total'] > 0) & \n",
        "                 (df['Summer_Silver'] > 0) & (df['Winter_Silver'] > 0) &\n",
        "                 (df['Summer_Bronze'] > 0) & (df['Winter_Bronze'] > 0)]\n",
        "\n",
        "# Output the countries that meet the filter criteria\n",
        "print(df_filtered.index.tolist())\n"
      ]
    }
  ],
  "metadata": {
    "colab": {
      "provenance": []
    },
    "kernelspec": {
      "display_name": "Python 3 (ipykernel)",
      "language": "python",
      "name": "python3"
    },
    "language_info": {
      "codemirror_mode": {
        "name": "ipython",
        "version": 3
      },
      "file_extension": ".py",
      "mimetype": "text/x-python",
      "name": "python",
      "nbconvert_exporter": "python",
      "pygments_lexer": "ipython3",
      "version": "3.9.13"
    }
  },
  "nbformat": 4,
  "nbformat_minor": 5
}
