{
  "cells": [
    {
      "cell_type": "markdown",
      "id": "9f4c8909",
      "metadata": {
        "id": "9f4c8909"
      },
      "source": [
        "### Group members: Niharika Rasthapuram, Tyler Blankenship, Kao Takahama, Tyler Selby, Zach Seitz, Safal Lamichhane \n",
        "\n",
        "### Due Date: 3/26/23"
      ]
    },
    {
      "cell_type": "markdown",
      "id": "cd8a5b72",
      "metadata": {
        "id": "cd8a5b72"
      },
      "source": [
        "### BL-Flicker-Images-Book.csv file"
      ]
    },
    {
      "cell_type": "markdown",
      "id": "4abfeb89",
      "metadata": {
        "id": "4abfeb89"
      },
      "source": [
        "### 1) For the Title column, only keep the title part, remove all of the other parts. If the title is inside a bracket, remove the bracket which encloses the title. If there are multiple …, only keep the words before the first one. If there are multiple periods (.), only keep words before the first one.\n",
        "\n",
        "The following shows the sample results after the cleaning for title column:\n",
        "Walter Forbes. [A novel.] By A. A ---> Walter Forbes.<br>\n",
        "Love the Avenger. By the author of â€œAll for Greed.â€• [The dedication signed: A. A. A., i.e.\n",
        "Marie Pauline Rose, Baroness Blaze de Bury.] ---> Love the Avenger. <br>\n",
        "[The World in which I live, and my place in it. By E. S. A. [i.e. Letitia Willgoss Stone.] Edited by ...\n",
        "J. H. Broome.] ---> The World in which I live, and my place in it.<br>\n",
        "A Satyr against Vertue. (A poem: supposed to be spoken by a Town-Hector. [By John Oldham.\n",
        "The preface signed: T. A.]) ---> A Satyr against Vertue.<br>\n",
        "An Account of the many and great Loans, Benefactions and Charities, belonging to the City of\n",
        "Coventry ... A new edition. [The dedication signed: AB, CD, EF, GH, &c. By Edward Jackson and\n",
        "Samuel Carte.] ---> An Account of the many and great Loans, Benefactions and Charities,\n",
        "belonging to the City of Coventry ...<br>\n"
      ]
    },
    {
      "cell_type": "code",
      "execution_count": null,
      "id": "59828f29",
      "metadata": {
        "id": "59828f29",
        "outputId": "4143de88-61b2-4a4f-f6a5-e8555ccf1147"
      },
      "outputs": [
        {
          "data": {
            "text/html": [
              "<div>\n",
              "<style scoped>\n",
              "    .dataframe tbody tr th:only-of-type {\n",
              "        vertical-align: middle;\n",
              "    }\n",
              "\n",
              "    .dataframe tbody tr th {\n",
              "        vertical-align: top;\n",
              "    }\n",
              "\n",
              "    .dataframe thead th {\n",
              "        text-align: right;\n",
              "    }\n",
              "</style>\n",
              "<table border=\"1\" class=\"dataframe\">\n",
              "  <thead>\n",
              "    <tr style=\"text-align: right;\">\n",
              "      <th></th>\n",
              "      <th>0</th>\n",
              "    </tr>\n",
              "  </thead>\n",
              "  <tbody>\n",
              "    <tr>\n",
              "      <th>0</th>\n",
              "      <td>Walter Forbes</td>\n",
              "    </tr>\n",
              "    <tr>\n",
              "      <th>1</th>\n",
              "      <td>All for Greed</td>\n",
              "    </tr>\n",
              "    <tr>\n",
              "      <th>2</th>\n",
              "      <td>Love the Avenger</td>\n",
              "    </tr>\n",
              "    <tr>\n",
              "      <th>3</th>\n",
              "      <td>Welsh Sketches, chiefly ecclesiastical, to the...</td>\n",
              "    </tr>\n",
              "    <tr>\n",
              "      <th>4</th>\n",
              "      <td></td>\n",
              "    </tr>\n",
              "    <tr>\n",
              "      <th>...</th>\n",
              "      <td>...</td>\n",
              "    </tr>\n",
              "    <tr>\n",
              "      <th>8282</th>\n",
              "      <td>The Parochial History of Cornwall, founded on,</td>\n",
              "    </tr>\n",
              "    <tr>\n",
              "      <th>8283</th>\n",
              "      <td>The History and Gazetteer of the County of Derby</td>\n",
              "    </tr>\n",
              "    <tr>\n",
              "      <th>8284</th>\n",
              "      <td>Magna Britannia</td>\n",
              "    </tr>\n",
              "    <tr>\n",
              "      <th>8285</th>\n",
              "      <td>An historical, topographical and descriptive v...</td>\n",
              "    </tr>\n",
              "    <tr>\n",
              "      <th>8286</th>\n",
              "      <td>Collectanea Topographica et Genealogica</td>\n",
              "    </tr>\n",
              "  </tbody>\n",
              "</table>\n",
              "<p>8287 rows × 1 columns</p>\n",
              "</div>"
            ],
            "text/plain": [
              "                                                      0\n",
              "0                                         Walter Forbes\n",
              "1                                         All for Greed\n",
              "2                                      Love the Avenger\n",
              "3     Welsh Sketches, chiefly ecclesiastical, to the...\n",
              "4                                                      \n",
              "...                                                 ...\n",
              "8282    The Parochial History of Cornwall, founded on, \n",
              "8283   The History and Gazetteer of the County of Derby\n",
              "8284                                    Magna Britannia\n",
              "8285  An historical, topographical and descriptive v...\n",
              "8286            Collectanea Topographica et Genealogica\n",
              "\n",
              "[8287 rows x 1 columns]"
            ]
          },
          "execution_count": 32,
          "metadata": {},
          "output_type": "execute_result"
        }
      ],
      "source": [
        "import pandas as pd\n",
        "\n",
        "df = pd.read_csv('BL-Flickr-Images-Book.csv')\n",
        "\n",
        "titles = df['Title']\n",
        "\n",
        "# Create a capture group (the outside parentheses) to\n",
        "# Match as many alphanumeric characters as possible (\\w*) \n",
        "# Followed by any amount of whitespace (\\s*)\n",
        "# Followed by as many alphanumeric characters as possible (\\w*) \n",
        "# Followed by as many commas as possible (,*)\n",
        "# This matches the entire title, indcluding spaces and commas, \n",
        "# but without including any other punctuation or any words that follow punctuation\n",
        "pattern = r'([\\w*\\s*\\w*,*]*)'\n",
        "\n",
        "titles = titles.str.extract(pattern)\n",
        "titles"
      ]
    },
    {
      "cell_type": "markdown",
      "id": "ad98ae71",
      "metadata": {
        "id": "ad98ae71"
      },
      "source": [
        "### 2) For the Author and Contributors columns, only keep the first author, remove all of the other parts. If the author or the contributor has other auxiliary information, remove them. title is inside a bracket, remove the bracket which encloses the title. If there are multiple …, only keep the words before the first one. If there are multiple periods (.), only keep words before the first one. For all of the names, they should only have the first letter of the first, middle and last names be capital letter, all of the remaining letters should be small case. \n",
        "\n",
        "The following shows the sample results after the cleaning for title column:<br>\n",
        "Author<br>\n",
        "A., J.|A., J. -> A., J. <br>\n",
        "AAR, Ermanno - pseud. [i.e. Luigi Giuseppe Oronzo Mariano Raffaele Francesco Fortunato Felice\n",
        "de Simone.] -> Aar, Ermanno <br>\n",
        "Contributors:<br>\n",
        "CARTE, Samuel.|JACKSON, Edward - Rector of Southam, and CARTE (Samuel) -> Carte, Samuel. <br>\n",
        "After cleaning the above columns, save the cleaned data back into a new .csv file."
      ]
    },
    {
      "cell_type": "code",
      "execution_count": null,
      "id": "02f9debb",
      "metadata": {
        "id": "02f9debb"
      },
      "outputs": [],
      "source": []
    },
    {
      "cell_type": "markdown",
      "id": "c95422a2",
      "metadata": {
        "id": "c95422a2"
      },
      "source": [
        "### olympics.csv file\n",
        "\n",
        "### 3) Drop all of the countries which don’t have gold medals, and save the cleaned one back into a new .csv file."
      ]
    },
    {
      "cell_type": "code",
      "execution_count": null,
      "id": "5ff69aee",
      "metadata": {
        "id": "5ff69aee"
      },
      "outputs": [],
      "source": [
        "import pandas as pd\n",
        "\n",
        "# Load the Olympics data\n",
        "df = pd.read_csv('olympics.csv', index_col=0, skiprows=1)\n",
        "\n",
        "# Rename the columns to remove special characters and spaces\n",
        "\n",
        "new_cols = ['Summer','Summer_Gold', 'Summer_Silver', 'Summer_Bronze', 'Summer_Total',\n",
        "            'Winter','Winter_Gold', 'Winter_Silver', 'Winter_Bronze', 'Winter_Total',\n",
        "            'Games','Games_Gold', 'Games_Silver', 'Games_Bronze', 'Games_Total']\n",
        "df.columns = new_cols\n",
        "\n",
        "\n",
        "# Drop all rows where the country doesnot have a single gold medals\n",
        "df = df.drop(df[(df['Summer_Gold'] == 0) & (df['Winter_Gold'] == 0)].index)\n",
        "\n",
        "# Save cleaned data to new csv file\n",
        "df.to_csv('olympics_gold_only.csv')"
      ]
    },
    {
      "cell_type": "markdown",
      "id": "3e6ae012",
      "metadata": {
        "id": "3e6ae012"
      },
      "source": [
        "### 4) Output the top five gold medal countries.\n"
      ]
    },
    {
      "cell_type": "code",
      "execution_count": null,
      "id": "c6f77cea",
      "metadata": {
        "id": "c6f77cea"
      },
      "outputs": [],
      "source": [
        "\n",
        "# lets load previous generates .csv file\n",
        "df = pd.read_csv('olympics_gold_only.csv', index_col=0)\n",
        "\n",
        "# Sort by 'Combined Gold' column which is Games_Gold in descending order and get top 5 rows\n",
        "top_5_gold = df.sort_values('Games_Gold', ascending=False).head(5)\n",
        "\n",
        "# Output top 5 gold medal countries\n",
        "print(top_5_gold)"
      ]
    },
    {
      "cell_type": "markdown",
      "id": "8c2c6102",
      "metadata": {
        "id": "8c2c6102"
      },
      "source": [
        "### 5) Output the countries that have all three kinds of medals for both summer and winter games. You may use previous unit learned concepts on multi-level indexing, pivoting, stacking to rearrange the original .csv file to convert summer and winter as secondary level index within the country index, and then generate a new .csv file which will have country as the primary index, then summer and winter as secondary index, and columns of gold, silver and bronze medals."
      ]
    },
    {
      "cell_type": "code",
      "execution_count": null,
      "id": "78c824ea",
      "metadata": {
        "id": "78c824ea"
      },
      "outputs": [],
      "source": [
        "# Load formatted Csv file\n",
        "df = pd.read_csv('olympics_gold_only.csv', index_col=0)\n",
        "\n",
        "# Filter the dataframe to include only the countries that have all three types of medals in both summer and winter games\n",
        "df_filtered = df[(df['Summer_Total'] > 0) & (df['Winter_Total'] > 0) & \n",
        "                 (df['Summer_Silver'] > 0) & (df['Winter_Silver'] > 0) &\n",
        "                 (df['Summer_Bronze'] > 0) & (df['Winter_Bronze'] > 0)]\n",
        "\n",
        "# Output the countries that meet the filter criteria\n",
        "print(df_filtered.index.tolist())\n"
      ]
    }
  ],
  "metadata": {
    "kernelspec": {
      "display_name": "Python 3 (ipykernel)",
      "language": "python",
      "name": "python3"
    },
    "language_info": {
      "codemirror_mode": {
        "name": "ipython",
        "version": 3
      },
      "file_extension": ".py",
      "mimetype": "text/x-python",
      "name": "python",
      "nbconvert_exporter": "python",
      "pygments_lexer": "ipython3",
      "version": "3.8.5"
    },
    "colab": {
      "provenance": []
    }
  },
  "nbformat": 4,
  "nbformat_minor": 5
}